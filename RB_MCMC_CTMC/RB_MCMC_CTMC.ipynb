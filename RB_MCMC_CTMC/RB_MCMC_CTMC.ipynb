{
 "cells": [
  {
   "cell_type": "markdown",
   "metadata": {},
   "source": [
    "# Substitution Models\n",
    "## Phylogenetic inference of nucleotide data using RevBayes\n",
    "### Sebastian Höhna, Michael Landis, Brian Moore and Tracy Heath\n",
    "\n",
    "Prerequisites:\n",
    "- [Intro to graphical models](https://revbayes.github.io/tutorials/intro_graph_models/)\n",
    "- [Intro to RevBayes using Archery](https://revbayes.github.io/tutorials/mcmc_archery/)\n",
    "\n",
    "\n",
    "\n",
    "\n",
    "\n",
    "## Overview\n",
    "\n",
    "This tutorial provides the first protocol from \\cite{Hoehna2017a}. \n",
    "Here, we demonstrate how to set up and perform analyses\n",
    "using common nucleotide substitution models. The substitution models\n",
    "used in molecular evolution are continuous time Markov models, which are\n",
    "fully characterized by their instantaneous-rate matrix:\n",
    "\n",
    "$$Q = \\begin{pmatrix} -\\mu_A & \\mu_{GA} & \\mu_{CA} & \\mu_{TA} \\\\\n",
    "\\mu_{AG} & -\\mu_G  & \\mu_{CG} & \\mu_{TG} \\\\\n",
    "\\mu_{AC} & \\mu_{GC} & -\\mu_C  & \\mu_{TC} \\\\\n",
    "\\mu_{AT} & \\mu_{GT} & \\mu_{CT} & -\\mu_T \n",
    "\\end{pmatrix} \\mbox{  ,}$$\n",
    "\n",
    "where $\\mu_{ij}$ represents the instantaneous rate of substitution from\n",
    "state $i$ to state $j$. The diagonal elements $\\mu_i$ are the rates of\n",
    "*not* changing out of state $i$, equal to the sum of the elements in the\n",
    "corresponding row. Given the instantaneous-rate matrix, $Q$, we can\n",
    "compute the corresponding transition probabilities for a branch of\n",
    "length $t$, $P(t)$, by exponentiating the rate matrix:\n",
    "\n",
    "$$P(t) = \\begin{pmatrix}          \n",
    "p_{AA}(t) & p_{GA}(t) & p_{CA}(t) & p_{TA}(t) \\\\\n",
    "p_{AG}(t) & p_{GG}(t) & p_{CG}(t) & p_{TG}(t) \\\\\n",
    "p_{AC}(t) & p_{GC}(t) & p_{CC}(t) & p_{TC}(t) \\\\\n",
    "p_{AT}(t) & p_{GT}(t) & p_{CT}(t) & p_{TT}(t)\n",
    "\\end{pmatrix} = e^{Qt} = \\sum_{j=0}^\\infty\\frac{tQ^j}{j!} \\mbox{  .}$$\n",
    "\n",
    "Each specific substitution model has a uniquely defined\n",
    "instantaneous-rate matrix, $Q$.\n",
    "\n",
    "In this tutorial you will perform phylogeny inference under common\n",
    "models of DNA sequence evolution: JC, F81, HKY85, GTR, GTR+Gamma and\n",
    "GTR+Gamma+I. For all of these substitution models, you will perform a \n",
    "Markov chain Monte Carlo (MCMC) analysis to estimate phylogeny and other model parameters. The\n",
    "estimated trees will be unrooted trees with independent branch-length\n",
    "parameters. We will provide comments on how to modify the tutorial if\n",
    "you wish to estimate rooted, clock-like trees. All the assumptions will\n",
    "be covered in more detail later in this tutorial.\n",
    "\n",
    "{% table tab_subst_models %}\n",
    "{% tabcaption %}\n",
    "Specific functions for substitution models available in RevBayes.\n",
    "{% endtabcaption %}\n",
    "\n",
    " |   **Model**      |        **Reference**        |  **Function**   |      **Parameters**     |\n",
    " |:----------------:|:---------------------------:|:---------------:|:-----------------------:|\n",
    " |   Jukes-Cantor   |    {% cite Jukes1969 %}     |      fnJC       |           -             |\n",
    " | K80 (a.k.a. K2P) |    {% cite Kimura1980 %}    |      fnK80      |        $\\kappa$         |\n",
    " |  Felsenstein-81  | {% cite Felsenstein1981 %}  |      fnF81      |         $\\pi$           |\n",
    " |        T92       |    {% cite Tamura1992 %}    |      fnT92      | $\\pi_{GC}$, $\\kappa$    |\n",
    " |        HKY       |   {% cite Hasegawa1985 %}   |      fnHKY      |     $\\pi$, $\\kappa$     |\n",
    " |        GTR       |    {% cite Tavare1986 %}    |      fnGTR      |     $\\pi$, $\\epsilon$   |\n",
    "\n",
    "{% endtable %}\n",
    "\n",
    "\n",
    "\n",
    "{% section Example: Character Evolution under the Jukes-Cantor Substitution Model %}\n",
    "\n",
    "{% subsection Getting Started %}\n",
    "\n",
    "The first section of this exercise involves: \n",
    "1. setting up a Jukes-Cantor (JC) substitution model for an alignment of the cytochrome b subunit; \n",
    "2. approximating the posterior probability of the tree topology and node ages (and all other parameters) using MCMC, and; \n",
    "3. summarizing the MCMC output by computing the maximum *a posteriori* tree.\n",
    "\n",
    "\n",
    "{% figure jc_graphical_model %}\n",
    "<img src=\"figures/jc_graphical_model.png\" /> \n",
    "{% figcaption %} \n",
    "Graphical model representation of a simple phylogenetic model. The graphical model shows the dependencies between the parameters {% cite Hoehna2014b %}. Here, the rate matrix $Q$ is a constant variable because it is fixed and does not depend on any parameter.The only free parameters of this model, the Jukes-Cantor model, are the tree $\\Psi$ including the branch lengths.\n",
    "{% endfigcaption %}\n",
    "{% endfigure %}\n",
    "\n",
    "We first consider the simplest substitution model described by \n",
    "{% citet Jukes1969 %}. The instantaneous-rate matrix for the JC substitution\n",
    "model is defined as\n",
    "\n",
    "$$Q_{JC69} = \\begin{pmatrix} \n",
    "{*} & \\frac{1}{3} & \\frac{1}{3} & \\frac{1}{3} \\\\ \n",
    "\\frac{1}{3} & {*} & \\frac{1}{3} & \\frac{1}{3} \\\\ \n",
    "\\frac{1}{3} & \\frac{1}{3} & {*} & \\frac{1}{3} \\\\ \n",
    "\\frac{1}{3} & \\frac{1}{3} & \\frac{1}{3} & {*}  \n",
    "\\end{pmatrix} \\mbox{  ,}$$\n",
    "\n",
    "which has the advantage that the transition probability matrix can be\n",
    "computed analytically\n",
    "\n",
    "$$P_{JC69} = \\begin{pmatrix} {\\frac{1}{4} + \\frac{3}{4}e^{-rt}} & {\\frac{1}{4} - \\frac{1}{4}e^{-rt}} & {\\frac{1}{4} - \\frac{1}{4}e^{-rt}} & {\\frac{1}{4} - \\frac{1}{4}e^{-rt}} \\\\\\\\ {\\frac{1}{4} - \\frac{1}{4}e^{-rt}} & {\\frac{1}{4} + \\frac{3}{4}e^{-rt}} & {\\frac{1}{4} - \\frac{1}{4}e^{-rt}} & {\\frac{1}{4} - \\frac{1}{4}e^{-rt}} \\\\\\\\ {\\frac{1}{4} - \\frac{1}{4}e^{-rt}} & {\\frac{1}{4} - \\frac{1}{4}e^{-rt}} & {\\frac{1}{4} + \\frac{3}{4}e^{-rt}} & {\\frac{1}{4} - \\frac{1}{4}e^{-rt}} \\\\\\\\ {\\frac{1}{4} - \\frac{1}{4}e^{-rt}} & {\\frac{1}{4} - \\frac{1}{4}e^{-rt}} & {\\frac{1}{4} - \\frac{1}{4}e^{-rt}} & {\\frac{1}{4} + \\frac{3}{4}e^{-rt}}  \n",
    "\\end{pmatrix} \\mbox{  ,}$$\n",
    "\n",
    "where $t$ is the branch length in units of time, and $r$ is the rate (clock) for the process. In the later exercises you will be asked to specify more complex substitution models. **Don’t worry, you won’t have to calculate all of the transition probabilities, because RevBayes will take care of all the computations for you.** Here we only provide some of the equations for the models in case you might be interested in the details. You will be able to complete the exercises without understanding the underlying math.\n",
    "\n",
    "The file for this example analysis are provided for you ([`mcmc_JC.Rev`](scripts/mcmc_JC.Rev)).\n",
    "If you download this file and place it in a directory called `scripts` inside your main tutorial directory,\n",
    "you can\n",
    "easily execute this analysis using the `source()` function in the RevBayes console:"
   ]
  },
  {
   "cell_type": "code",
   "execution_count": null,
   "metadata": {},
   "outputs": [],
   "source": [
    "source(\"scripts/mcmc_JC.Rev\")"
   ]
  },
  {
   "cell_type": "markdown",
   "metadata": {},
   "source": [
    "If everything loaded properly, then you should see the program initiate\n",
    "the Markov chain Monte Carlo analysis that estimates the posterior\n",
    "distribution. If you continue to let this run, then you will see it\n",
    "output the states of the Markov chain once the MCMC analysis begins.\n",
    "\n",
    "Ultimately, this is how you will execute most analyses in RevBayes, with the full specification of the model and analyses contained in the sourced files. You could easily run this entire analysis on your own data by substituting your data file name for that in the model-specification file. However, it is important to understand the components of the model to be able to take full advantage of the flexibility and richness of RevBayes. Furthermore, without inspecting the Rev scripts sourced in `mcmc_JC.Rev`, you may end up inadvertently performing inappropriate analyses on your dataset, which would be a waste of your time and CPU cycles. The next steps will walk you through the full specification of the model and MCMC analyses.\n",
    "\n",
    "{% subsection Loading the Data %}\n",
    "\n",
    ">First create a directory for this tutorial and name it `RB_CTMC_Tutorial`, or any name\n",
    ">you like.\n",
    ">\n",
    ">Navigate to this new directory and create a new folder called `data` inside of it.\n",
    ">\n",
    ">Download the data file called [`primates_and_galeopterus_cytb.nex`](data/primates_and_galeopterus_cytb.nex) \n",
    ">and save it to the `data` directory.\n",
    ">\n",
    ">Now start RevBayes from your working directory (`RB_CTMC_Tutorial`). \n",
    "{:.instruction}\n",
    "\n",
    "{% aside Checking and Changing Your Working Directory %}\n",
    "For this tutorial and much of the work you will do in RevBayes, you will need to access files.\n",
    "It is important that you are aware of your current working directory if you use relative file paths\n",
    "in your Rev scripts or in the RevBayes console.\n",
    "\n",
    "To check your current working directory, use the function `getwd()`."
   ]
  },
  {
   "cell_type": "code",
   "execution_count": null,
   "metadata": {},
   "outputs": [],
   "source": [
    "getwd()"
   ]
  },
  {
   "cell_type": "code",
   "execution_count": null,
   "metadata": {},
   "outputs": [],
   "source": [
    "/Users/tombayes/Work"
   ]
  },
  {
   "cell_type": "markdown",
   "metadata": {},
   "source": [
    "{:.Rev-output}\n",
    "\n",
    "If you want to change the directory, enter the path to your directory in the arguments of the function `setwd()`."
   ]
  },
  {
   "cell_type": "code",
   "execution_count": null,
   "metadata": {},
   "outputs": [],
   "source": [
    "setwd(\"Tutorials/RB_CTMC_Tutorial\")"
   ]
  },
  {
   "cell_type": "code",
   "execution_count": null,
   "metadata": {},
   "outputs": [],
   "source": [
    "Received directory:   Tutorials/RB_CTMC_Tutorial"
   ]
  },
  {
   "cell_type": "markdown",
   "metadata": {},
   "source": [
    "{:.Rev-output}\n",
    "\n",
    "Now check your directory again to make sure you are where you want to be:"
   ]
  },
  {
   "cell_type": "code",
   "execution_count": null,
   "metadata": {},
   "outputs": [],
   "source": [
    "getwd()"
   ]
  },
  {
   "cell_type": "code",
   "execution_count": null,
   "metadata": {},
   "outputs": [],
   "source": [
    "/Users/tombayes/Work/Tutorials/RB_CTMC_Tutorial"
   ]
  },
  {
   "cell_type": "markdown",
   "metadata": {},
   "source": [
    "{:.Rev-output}\n",
    "{% endaside %}\n",
    "\n",
    "First load in the sequences using the `readDiscreteCharacterData()`\n",
    "function."
   ]
  },
  {
   "cell_type": "code",
   "execution_count": null,
   "metadata": {},
   "outputs": [],
   "source": [
    "data <- readDiscreteCharacterData(\"data/primates_and_galeopterus_cytb.nex\")"
   ]
  },
  {
   "cell_type": "markdown",
   "metadata": {},
   "source": [
    "Executing these lines initializes the data matrix as the respective\n",
    "Rev variables. To report the current value of any variable, simply\n",
    "type the variable name and press enter. For the `data` matrix, this\n",
    "provides information about the alignment:"
   ]
  },
  {
   "cell_type": "code",
   "execution_count": null,
   "metadata": {},
   "outputs": [],
   "source": [
    "data"
   ]
  },
  {
   "cell_type": "code",
   "execution_count": null,
   "metadata": {},
   "outputs": [],
   "source": [
    "   DNA character matrix with 23 taxa and 1141 characters\n",
    "   =====================================================\n",
    "   Origination:                      primates_and_galeopterus_cytb.nex\n",
    "   Number of taxa:                   23\n",
    "   Number of included taxa:          23\n",
    "   Number of characters:             1141\n",
    "   Number of included characters:    1141\n",
    "   Datatype:                         DNA"
   ]
  },
  {
   "cell_type": "markdown",
   "metadata": {},
   "source": [
    "{:.Rev-output}\n",
    "\n",
    "Next we will specify some useful variables based on our dataset. The variable `data` has *member functions* \n",
    "that we can use to retrieve information about the dataset. These include, for example, \n",
    "the number of species and the taxa. We will need that taxon information for setting up different parts of our model."
   ]
  },
  {
   "cell_type": "code",
   "execution_count": null,
   "metadata": {},
   "outputs": [],
   "source": [
    "num_taxa <- data.ntaxa()\n",
    "num_branches <- 2 * num_taxa - 3\n",
    "taxa <- data.taxa()"
   ]
  },
  {
   "cell_type": "markdown",
   "metadata": {},
   "source": [
    "Additionally, we set up a counter variable for the number of moves that we already added to our analysis. \n",
    "Recall that moves are algorithms used to propose new parameter values during the MCMC simulation. \n",
    "This will make it much easier if we extend the model or analysis to include additional moves or \n",
    "to remove some moves. Similarly, we set up a counter variable for the number of monitors. \n",
    "Monitors print the values of model parameters to the screen and/or log files during the MCMC analysis."
   ]
  },
  {
   "cell_type": "code",
   "execution_count": null,
   "metadata": {},
   "outputs": [],
   "source": [
    "mvi = 1 \n",
    "mni = 1"
   ]
  },
  {
   "cell_type": "markdown",
   "metadata": {},
   "source": [
    "You may have noticed that we used the `=` operator to create the move index. \n",
    "This simply means that the variable is not part of the model. \n",
    "You will later see that we use this operator more often, e.g., when we create moves and monitors.\n",
    "\n",
    "With the data loaded, we can now proceed to specify our specifying the model.\n",
    "\n",
    "{% subsection Setting up the Graphical Model and MCMC %}\n",
    "\n",
    "Estimating an unrooted tree under the JC model requires specification of two main components:\n",
    "(1) the {% ref subsub-JCMod %} and (2) the {% ref subsub-TreeBlMod %}.\n",
    "\n",
    "{% subsubsection Jukes-Cantor Substitution Model | subsub-JCMod %}\n",
    "\n",
    "A given substitution model is defined by its corresponding\n",
    "instantaneous-rate matrix, $Q$. The Jukes-Cantor substitution model does\n",
    "not have any free parameters (as the substitution rates are all assumed\n",
    "to be equal, and there is a separate parameter that scales their overall\n",
    "magnitude), so we can define it as a constant variable. The function\n",
    "`fnJC(n)` will create an instantaneous-rate matrix for a character with\n",
    "$n$ states. Since we use DNA data here, we create a 4x4\n",
    "instantaneous-rate matrix:"
   ]
  },
  {
   "cell_type": "code",
   "execution_count": null,
   "metadata": {},
   "outputs": [],
   "source": [
    "Q <- fnJC(4) "
   ]
  },
  {
   "cell_type": "markdown",
   "metadata": {},
   "source": [
    "You can see the rates of the $Q$ matrix by typing"
   ]
  },
  {
   "cell_type": "code",
   "execution_count": null,
   "metadata": {},
   "outputs": [],
   "source": [
    "Q"
   ]
  },
  {
   "cell_type": "code",
   "execution_count": null,
   "metadata": {},
   "outputs": [],
   "source": [
    "   [ [ -1.0000, 0.3333, 0.3333, 0.3333 ] ,\n",
    "     0.3333, -1.0000, 0.3333, 0.3333 ] ,\n",
    "     0.3333, 0.3333, -1.0000, 0.3333 ] ,\n",
    "     0.3333, 0.3333, 0.3333, -1.0000 ] ]"
   ]
  },
  {
   "cell_type": "markdown",
   "metadata": {},
   "source": [
    "{:.Rev-output}\n",
    "\n",
    "As you can see, all substitution rates are equal.\n",
    "\n",
    "{% subsubsection Tree Topology and Branch Lengths | subsub-TreeBlMod %}\n",
    "\n",
    "The tree topology and branch lengths are stochastic nodes in our phylogenetic model. \n",
    "In {% ref jc_graphical_model %}, the tree topology is denoted $\\Psi$ and the \n",
    "length of the branch leading to node $i$ is $bl_i$.\n",
    "\n",
    "We will assume that all possible labeled, unrooted tree topologies have equal probability. \n",
    "This is the `dnUniformTopology()` distribution in RevBayes. \n",
    "Note that in RevBayes it is advisable to specify the outgroup for your study system \n",
    "if you use an unrooted tree prior, whereas other software, *e.g.*,  \n",
    "MrBayes uses the first taxon in the data matrix file as the outgroup. \n",
    "Specify the `topology` stochastic node by passing in the list of `taxa` \n",
    "to the `dnUniformTopology()` distribution:"
   ]
  },
  {
   "cell_type": "code",
   "execution_count": null,
   "metadata": {},
   "outputs": [],
   "source": [
    "out_group = clade(\"Galeopterus_variegatus\")\n",
    "topology ~ dnUniformTopology(taxa, outgroup=out_group)"
   ]
  },
  {
   "cell_type": "markdown",
   "metadata": {},
   "source": [
    "Some types of stochastic nodes can be updated by a number of alternative moves. \n",
    "Different moves may explore parameter space in different ways, \n",
    "and it is possible to use multiple different moves for a given parameter to improve mixing \n",
    "(the efficiency of the MCMC simulation). \n",
    "In the case of our unrooted tree topology, for example, we can use both a nearest-neighbor interchange move (`mvNNI`) and a subtree-prune and regrafting move (`mvSPR`). These moves do not have tuning parameters associated with them, thus you only need to pass in the `topology` node and proposal `weight`."
   ]
  },
  {
   "cell_type": "code",
   "execution_count": null,
   "metadata": {},
   "outputs": [],
   "source": [
    "moves[mvi++] = mvNNI(topology, weight=num_taxa)\n",
    "moves[mvi++] = mvSPR(topology, weight=num_taxa/10.0)"
   ]
  },
  {
   "cell_type": "markdown",
   "metadata": {},
   "source": [
    "The weight specifies how often the move will be applied either on average per iteration or relative to all other moves. Have a look at the MCMC Diagnosis tutorial for more details about moves and MCMC strategies (found in {% page_ref tutorials %}).\n",
    "\n",
    "Next we have to create a stochastic node for each of the $2N - 3$ branches in our tree (where $N=$ `n_species`). We can do this using a `for` loop — this is a plate in our graphical model. In this loop, we can create each of the branch-length nodes and assign each move. Copy this entire block of Rev code into the console:"
   ]
  },
  {
   "cell_type": "code",
   "execution_count": null,
   "metadata": {},
   "outputs": [],
   "source": [
    "for (i in 1:num_branches) {\n",
    "   br_lens[i] ~ dnExponential(10.0)\n",
    "   moves[mvi++] = mvScale(br_lens[i]) \n",
    "}"
   ]
  },
  {
   "cell_type": "markdown",
   "metadata": {},
   "source": [
    "It is convenient for monitoring purposes to add the tree length as deterministic variable. The tree length is simply the sum of all branch lengths. Accordingly, the tree length can be computed using the `sum()` function, which calculates the sum of any vector of values."
   ]
  },
  {
   "cell_type": "code",
   "execution_count": null,
   "metadata": {},
   "outputs": [],
   "source": [
    "TL := sum(br_lens)"
   ]
  },
  {
   "cell_type": "markdown",
   "metadata": {},
   "source": [
    "Finally, we can create a *phylogram* (a phylogeny in which the branch lengths are proportional to the expected number of substitutions/site) by combining the tree topology and branch lengths. We do this using the `treeAssembly()` function, which applies the value of the $i^{th}$ member of the `br_lens` vector to the branch leading to the $i^{th}$ node in `topology`. Thus, the `psi` variable is a deterministic node:"
   ]
  },
  {
   "cell_type": "code",
   "execution_count": null,
   "metadata": {},
   "outputs": [],
   "source": [
    "psi := treeAssembly(topology, br_lens)"
   ]
  },
  {
   "cell_type": "markdown",
   "metadata": {},
   "source": [
    "{% aside Alternative tree priors %}\n",
    "For large phylogenetic trees, i.e., with more than 200 taxa, it might be easier to specify a combined topology and branch length prior distribution.\n",
    "We can achieve this by simple using the distribution `dnUniformTopologyBranchLength()`."
   ]
  },
  {
   "cell_type": "code",
   "execution_count": null,
   "metadata": {},
   "outputs": [],
   "source": [
    "br_len_lambda <- 10.0\n",
    "psi ~ dnUniformTopologyBranchLength(taxa, branchLengthDistribution=dnExponential(br_len_lambda))\n",
    "moves[mvi++] = mvNNI(psi, weight=num_taxa)\n",
    "moves[mvi++] = mvSPR(psi, weight=num_taxa/10.0)\n",
    "moves[mvi++] = mvBranchLengthScale(psi, weight=num_branches)"
   ]
  },
  {
   "cell_type": "markdown",
   "metadata": {},
   "source": [
    "You might think that this approach is in fact simpler than the `for` loop that we explained above.\n",
    "We still think that it is pedagogical to specify the prior on each branch length separately in this tutorial to emphasize all components of the model.\n",
    "{% endaside %}\n",
    "\n",
    "{% aside Alternative branch-length priors %}\n",
    "Some studies, *e.g.* {% cite Brown2010 %} {% cite Rannala2012 %}, \n",
    "have criticized the exponential prior distribution for branch lengths \n",
    "because it induces a gamma-distributed tree-length and the mean of this gamma distribution\n",
    "grows with the number of taxa. For example, we can use instead a specific gamma prior distribution \n",
    "(or any other distribution defined on a positive real variable) for the tree length, \n",
    "and then use a Dirichlet prior distribution to break the tree length into \n",
    "the corresponding branch lengths {% cite Zhang2012 %}.\n",
    "\n",
    "First, specify a prior distribution on the tree length with your desired mean.\n",
    "For example, we use a gamma distribution as our prior on the tree length."
   ]
  },
  {
   "cell_type": "code",
   "execution_count": null,
   "metadata": {},
   "outputs": [],
   "source": [
    "TL ~ dnGamma(2,4)\n",
    "moves[mvi++] = mvScale(TL) "
   ]
  },
  {
   "cell_type": "markdown",
   "metadata": {},
   "source": [
    "Now we create a random variable for the relative branch lengths."
   ]
  },
  {
   "cell_type": "code",
   "execution_count": null,
   "metadata": {},
   "outputs": [],
   "source": [
    "rel_branch_lengths ~ dnDirichlet( rep(1.0,num_branches) )\n",
    "moves[mvi++] = mvBetaSimplex(rel_branch_lengths, weight=num_branches)\n",
    "moves[mvi++] = mvDirichletSimplex(rel_branch_lengths, weight=num_branches/10.0)"
   ]
  },
  {
   "cell_type": "markdown",
   "metadata": {},
   "source": [
    "Finally, transform the relative branch lengths into actual branch lengths"
   ]
  },
  {
   "cell_type": "code",
   "execution_count": null,
   "metadata": {},
   "outputs": [],
   "source": [
    "br_lens := rel_branch_lengths * TL"
   ]
  },
  {
   "cell_type": "markdown",
   "metadata": {},
   "source": [
    "{% endaside %}\n",
    "\n",
    "{% aside Alternative Prior on Time-Trees: Tree Topology and Node Ages %}\n",
    "Alternatively, you may want to specify a prior on time-trees. \n",
    "Here we will briefly indicate how to specify such an prior which will lead to inference of time trees.\n",
    "\n",
    "The tree (the topology and node ages) is a stochastic node in our phylogenetic model. \n",
    "For simplicity, we will assume a uniform prior on both topologies and node ages. \n",
    "The distribution in RevBayes is `dnUniformTimeTree()`.\n",
    "\n",
    "Fore more information on tree priors, such as birth-death processes, please read the {% page_ref clocks %}.\n",
    "\n",
    "First, we need to specify the age of the tree:"
   ]
  },
  {
   "cell_type": "code",
   "execution_count": null,
   "metadata": {},
   "outputs": [],
   "source": [
    "root_age <- 10.0"
   ]
  },
  {
   "cell_type": "markdown",
   "metadata": {},
   "source": [
    "Here we simply assumed that the tree is 10.0 time units old. We could also specify a prior on the root age if we have fossil calibrations (see {% page_ref clocks %}). Next, we specify the `tree` stochastic variable by passing in the taxon information `taxa` to the `dnUniformTimeTree()` distribution:"
   ]
  },
  {
   "cell_type": "code",
   "execution_count": null,
   "metadata": {},
   "outputs": [],
   "source": [
    "psi ~ dnUniformTimeTree(rootAge=root_age, taxa=taxa)"
   ]
  },
  {
   "cell_type": "markdown",
   "metadata": {},
   "source": [
    "Some types of stochastic nodes can be updated by a number of alternative moves. \n",
    "Different moves may explore parameter space in different ways,and it is possible to use \n",
    "multiple different moves for a given parameter to improve mixing \n",
    "(the efficiency of the MCMC simulation). In the case of our rooted tree, \n",
    "for example, we can use both a nearest-neighbor interchange move without and with changing \n",
    "the node ages (`mvNarrow` and `mvNNI`) and a fixed-node-height subtree-prune and regrafting \n",
    "move (`mvFNPR`) and its Metropolized-Gibbs variant (`mvGPR`) {% cite Hoehna2008 Hoehna2012 %}. \n",
    "We also need moves that change the ages of the internal nodes, for example, `mvSubtreeScale` \n",
    "and `mvNodeTimeSlideUniform`. These moves do not have tuning parameters associated with \n",
    "them, thus you only need to pass in the `psi` node and proposal `weight`."
   ]
  },
  {
   "cell_type": "code",
   "execution_count": null,
   "metadata": {},
   "outputs": [],
   "source": [
    "moves[mvi++] = mvNarrow(psi, weight=num_taxa)\n",
    "moves[mvi++] = mvNNI(psi, weight=num_taxa/5.0)\n",
    "moves[mvi++] = mvFNPR(psi, weight=num_taxa/5.0)\n",
    "moves[mvi++] = mvGPR(psi, weight=num_taxa/30.0)\n",
    "moves[mvi++] = mvSubtreeScale(psi, weight=num_taxa/3.0)\n",
    "moves[mvi++] = mvNodeTimeSlideUniform(psi, weight=num_taxa)"
   ]
  },
  {
   "cell_type": "markdown",
   "metadata": {},
   "source": [
    "The weight specifies how often the move will be applied either on average per iteration or relative to all other moves. Have a look at the {% page_ref mcmc %} for more details about moves and MCMC strategies.\n",
    "\n",
    "{% subsubsection Molecular Clock %}\n",
    "\n",
    "Additionally, in the case of time-calibrated trees, we need to add a molecular clock rate parameter. For example, we know from empirical estimates that the molecular clock rate is about 0.01 (=1%) per million years per site. Nevertheless, we can estimate it here because we fixed the root age. We use a uniform prior on the log-transform clock rate. This specifies our lack of prior knowledge on the magnitude of the clock rate."
   ]
  },
  {
   "cell_type": "code",
   "execution_count": null,
   "metadata": {},
   "outputs": [],
   "source": [
    "log_clock_rate ~ dnUniform(-6,1)\n",
    "moves[mvi++] = mvSlide(log_clock_rate, weight=2.0)\n",
    "clock_rate := 10^log_clock_rate"
   ]
  },
  {
   "cell_type": "markdown",
   "metadata": {},
   "source": [
    "Instead, you could also fix the clock rate and estimate the root age. \n",
    "For more information on molecular clocks please read the {% page_ref clocks %} tutorial.\n",
    "{% endaside %}\n",
    "\n",
    "{% subsubsection Putting it All Together %}\n",
    "\n",
    "We have fully specified all of the parameters of our phylogenetic\n",
    "model—the tree topology with branch lengths, and the substitution model\n",
    "that describes how the sequence data evolved over the tree with branch\n",
    "lengths. Collectively, these parameters comprise a distribution called\n",
    "the *phylogenetic continuous-time Markov chain*, and we use the\n",
    "`dnPhyloCTMC` constructor function to create this node. This\n",
    "distribution requires several input arguments: \n",
    "1. the `tree` with branch lengths; \n",
    "2. the instantaneous-rate matrix `Q`; \n",
    "3. the `type` of character data.\n",
    "\n",
    "Build the random variable for the character data (sequence alignment)."
   ]
  },
  {
   "cell_type": "code",
   "execution_count": null,
   "metadata": {},
   "outputs": [],
   "source": [
    "seq ~ dnPhyloCTMC(tree=psi, Q=Q, type=\"DNA\")"
   ]
  },
  {
   "cell_type": "markdown",
   "metadata": {},
   "source": [
    "Once the `PhyloCTMC` model has been created, we can attach our sequence \n",
    "data to the tip nodes in the tree."
   ]
  },
  {
   "cell_type": "code",
   "execution_count": null,
   "metadata": {},
   "outputs": [],
   "source": [
    "seq.clamp(data)"
   ]
  },
  {
   "cell_type": "markdown",
   "metadata": {},
   "source": [
    "[Note that although we assume that our sequence data are random\n",
    "variables—they are realizations of our phylogenetic model—for the\n",
    "purposes of inference, we assume that the sequence data are “clamped”.]\n",
    "When this function is called, RevBayes sets each of the stochastic\n",
    "nodes representing the tips of the tree to the corresponding nucleotide\n",
    "sequence in the alignment. This essentially tells the program that we\n",
    "have observed data for the sequences at the tips.\n",
    "\n",
    "Finally, we wrap the entire model to provide convenient access to the\n",
    "DAG. To do this, we only need to give the `model()` function a single\n",
    "node. With this node, the `model()` function can find all of the other\n",
    "nodes by following the arrows in the graphical model:"
   ]
  },
  {
   "cell_type": "code",
   "execution_count": null,
   "metadata": {},
   "outputs": [],
   "source": [
    "mymodel = model(Q)"
   ]
  },
  {
   "cell_type": "markdown",
   "metadata": {},
   "source": [
    "Now we have specified a simple phylogenetic analysis—each parameter of\n",
    "the model will be estimated from every site in our alignment. If we\n",
    "inspect the contents of `mymodel` we can review all of the nodes in the\n",
    "DAG:"
   ]
  },
  {
   "cell_type": "code",
   "execution_count": null,
   "metadata": {},
   "outputs": [],
   "source": [
    "mymodel"
   ]
  },
  {
   "cell_type": "markdown",
   "metadata": {},
   "source": [
    "<!-- \n",
    "{% subsubsection Performing an MCMC Analysis Under the Jukes-Cantor Model %}\n",
    "\n",
    "In this section, we will describe how to set up the MCMC sampler and\n",
    "summarize the resulting posterior distribution of trees.\n",
    " -->\n",
    "\n",
    "{% subsubsection Specifying Monitors and Output Files %}\n",
    "\n",
    "For our MCMC analysis, we need to set up a vector of *monitors* to\n",
    "record the states of our Markov chain. The monitor functions are all\n",
    "called `mn\\*`, where `\\*` is the wild-card representing the monitor type.\n",
    "First, we will initialize the model monitor using the `mnModel`\n",
    "function. This creates a new monitor variable that will output the\n",
    "states for all model parameters when passed into a MCMC function."
   ]
  },
  {
   "cell_type": "code",
   "execution_count": null,
   "metadata": {},
   "outputs": [],
   "source": [
    "monitors[mni++] = mnModel(filename=\"output/primates_cytb_JC.log\", printgen=10)"
   ]
  },
  {
   "cell_type": "markdown",
   "metadata": {},
   "source": [
    "The `mnFile` monitor will record the states for only the parameters\n",
    "passed in as arguments. We use this monitor to specify the output for\n",
    "our sampled trees and branch lengths."
   ]
  },
  {
   "cell_type": "code",
   "execution_count": null,
   "metadata": {},
   "outputs": [],
   "source": [
    "monitors[mni++] = mnFile(filename=\"output/primates_cytb_JC.trees\", printgen=10, psi)"
   ]
  },
  {
   "cell_type": "markdown",
   "metadata": {},
   "source": [
    "Finally, create a screen monitor that will report the states of\n",
    "specified variables to the screen with `mnScreen`:"
   ]
  },
  {
   "cell_type": "code",
   "execution_count": null,
   "metadata": {},
   "outputs": [],
   "source": [
    "monitors[mni++] = mnScreen(printgen=1000, TL)"
   ]
  },
  {
   "cell_type": "markdown",
   "metadata": {},
   "source": [
    "This monitor mostly helps us to see the progress of the MCMC run.\n",
    "\n",
    "{% subsubsection Initializing and Running the MCMC Simulation %}\n",
    "\n",
    "With a fully specified model, a set of monitors, and a set of moves, we\n",
    "can now set up the MCMC algorithm that will sample parameter values in\n",
    "proportion to their posterior probability. The `mcmc()` function will\n",
    "create our MCMC object:"
   ]
  },
  {
   "cell_type": "code",
   "execution_count": null,
   "metadata": {},
   "outputs": [],
   "source": [
    "mymcmc = mcmc(mymodel, monitors, moves, nruns=2, combine=\"mixed\")"
   ]
  },
  {
   "cell_type": "markdown",
   "metadata": {},
   "source": [
    "Notice that we also specified `nruns=2` which means that RevBayes will automatically run 2 independent MCMC runs. \n",
    "You will find that the output is created in two files with extension `_run_1` and `_run_2` for each replicate and additionally the samples from both runs are combined into one file for more convenient post-processing. \n",
    "Now, run the MCMC:"
   ]
  },
  {
   "cell_type": "code",
   "execution_count": null,
   "metadata": {},
   "outputs": [],
   "source": [
    "mymcmc.run(generations=20000,tuningInterval=200)"
   ]
  },
  {
   "cell_type": "markdown",
   "metadata": {},
   "source": [
    "When the analysis is complete, you will have the monitored files in your output directory.\n",
    "\n",
    "{% subsubsection Summarizing MCMC Samples %}\n",
    "\n",
    "Methods for visualizing the marginal densities of parameter values are not currently available in RevBayes itself. \n",
    "Thus, it is important to use programs like [Tracer](http://tree.bio.ed.ac.uk/software/tracer/) {% cite Rambaut2011 %} to evaluate mixing and non-convergence.\n",
    "\n",
    "Look at the file called `output/primates_cytb_JC.log` in Tracer. \n",
    "There you see the posterior distribution of the continuous parameters, *e.g.*, the tree length variable `TL`.\n",
    "\n",
    "\n",
    "{% figure jc_trace_tl %}\n",
    "<img src=\"figures/primates_cytb_JC_TL_Trace.png\" width = \"500\" /> <img src=\"figures/primates_cytb_JC_TL_Distribution.png\" width = \"500\" /> \n",
    "{% figcaption %}\n",
    "**Left:** Trace of tree-length samples for one MCMC run. The caterpillar-like look is a good sign.You will also see that the effective sample size is comparably large, i.e., much larger than 200. **Right:** Posterior distribution of the tree length of the primate phylogeny under a Jukes-Cantor substitution model.\n",
    "{% endfigcaption %}\n",
    "{% endfigure %}\n",
    "\n",
    "It is always important to carefully assess the MCMC samples for the various parameters in your analysis.\n",
    "You can read more about MCMC tuning and\n",
    "evaluating and improving mixing in the tutorials {% page_ref mcmc_binomial %}\n",
    "and [Diagnosing MCMC Performance](https://github.com/revbayes/revbayes_tutorial/raw/master/tutorial_TeX/RB_MCMC_Tutorial/RB_MCMC_Tutorial.pdf). <!-- Update link when that tutorial is updated! -->\n",
    "\n",
    "{% subsection Exercise 1 %}\n",
    "\n",
    "We are interested in the phylogenetic relationship of the Tarsiers.\n",
    "Therefore, we need to summarize the trees sampled from the posterior\n",
    "distribution. RevBayes can summarize the sampled trees by reading in\n",
    "the tree-trace file:"
   ]
  },
  {
   "cell_type": "code",
   "execution_count": null,
   "metadata": {},
   "outputs": [],
   "source": [
    "treetrace = readTreeTrace(\"output/primates_cytb_JC.trees\", treetype=\"non-clock\", outgroup=out_group)"
   ]
  },
  {
   "cell_type": "markdown",
   "metadata": {},
   "source": [
    "The `mapTree()` function will summarize the tree samples and write the\n",
    "maximum *a posteriori* tree to file:"
   ]
  },
  {
   "cell_type": "code",
   "execution_count": null,
   "metadata": {},
   "outputs": [],
   "source": [
    "map_tree = mapTree(treetrace,\"output/primates_cytb_JC_MAP.tree\")"
   ]
  },
  {
   "cell_type": "markdown",
   "metadata": {},
   "source": [
    "{% figure jc_tree %}\n",
    "<img src=\"figures/primates_cytb_JC_tree.png\" width=\"800\" /> \n",
    "{% figcaption %}\n",
    "Maximum a posteriori estimate of the primate phylogeny under a Jukes-Cantor substitution model. The numbers at the nodes show the posterior probabilities for the clades.We have rooted the tree at the outgroup *Galeopterus_variegatus*\n",
    "{% endfigcaption %}\n",
    "{% endfigure %}\n",
    "\n",
    "\n",
    "\n",
    "Look at the file called `output/primates_cytb_JC_MAP.tree` in\n",
    "`FigTree`. We show it in {% ref jc_tree %}.\n",
    "\n",
    "Fill in the following table as you go through the tutorial.\n",
    "\n",
    "{% table tab_primates_posterior %}\n",
    "{% tabcaption %}\n",
    "Posterior probabilities under different analyses\n",
    "{% endtabcaption %}\n",
    "\n",
    " |    **Model**   |   **Lemuroidea**   |   **Lorisoidea**   |   **Platyrrhini**   |   **Catarrhini**    |\n",
    "  ---------------:|:------------------:|:------------------:|:-------------------:|:-------------------:|\n",
    " |  Jukes-Cantor  |                    |                    |                     |                     |\n",
    " |     HKY85      |                    |                    |                     |                     |\n",
    " |     F81        |                    |                    |                     |                     |\n",
    " |     GTR        |                    |                    |                     |                     |\n",
    " |    GTR+Gamma   |                    |                    |                     |                     |\n",
    " |   GTR+Gamma+I  |                    |                    |                     |                     |\n",
    "\n",
    "{% endtable %}\n",
    "\n",
    "\n",
    "Note, you can query the posterior probability of a clade being\n",
    "monophyletic using the following command:"
   ]
  },
  {
   "cell_type": "code",
   "execution_count": null,
   "metadata": {},
   "outputs": [],
   "source": [
    "Lemuroidea <- clade(\"Cheirogaleus_major\", \n",
    "                    \"Daubentonia_madagascariensis\", \n",
    "                    \"Lemur_catta\", \n",
    "                    \"Lepilemur_hubbardorum\",\n",
    "                    \"Microcebus_murinus\",\n",
    "                    \"Propithecus_coquereli\",\n",
    "                    \"Varecia_variegata_variegata\")\n",
    "                    \n",
    "treetrace.cladeProbability( Lemuroidea )"
   ]
  },
  {
   "cell_type": "markdown",
   "metadata": {},
   "source": [
    "{% table tab_primates %}\n",
    "{% tabcaption %}\n",
    "Primate and species relationships.\n",
    "{% endtabcaption %}\n",
    "\n",
    " |            **Species**          |     **Family**     |     **Parvorder**   |   **Suborder**  |\n",
    "  -------------------------------- |:------------------:|:-------------------:|:---------------:|\n",
    " |        Aotus trivirgatus        |       Aotidae      |  Platyrrhini (NWM)  |   Haplorrhini   |\n",
    " |      Callicebus donacophilus    |    Pitheciidae     |  Platyrrhini (NWM)  |   Haplorrhini   |\n",
    " |         Cebus albifrons         |       Cebidae      |  Platyrrhini (NWM)  |   Haplorrhini   |\n",
    " |        Cheirogaleus major       |   Cheirogaleidae   |       Lemuroidea    |   Strepsirrhini |\n",
    " |       Chlorocebus aethiops      |  Cercopithecoidea  |       Catarrhini    |   Haplorrhini   |\n",
    " |         Colobus guereza         |  Cercopithecoidea  |       Catarrhini    |   Haplorrhini   |\n",
    " |   Daubentonia madagascariensis  |   Daubentoniidae   |       Lemuroidea    |   Strepsirrhini |\n",
    " |        Galago senegalensis      |      Galagidae     |        Lorisidae    |   Strepsirrhini |\n",
    " |           Hylobates lar         |      Hylobatidea   |       Catarrhini    |   Haplorrhini   |\n",
    " |            Lemur catta          |       Lemuridae    |       Lemuroidea    |   Strepsirrhini |\n",
    " |       Lepilemur hubbardorum     |    Lepilemuridae   |       Lemuroidea    |   Strepsirrhini |\n",
    " |        Loris tardigradus        |     Lorisidae      |        Lorisidae    |   Strepsirrhini |\n",
    " |           Macaca mulatta        |  Cercopithecoidea  |       Catarrhini    |   Haplorrhini   |\n",
    " |         Microcebus murinus      |    Cheirogaleidae  |       Lemuroidea    |   Strepsirrhini |\n",
    " |         Nycticebus coucang      |      Lorisidae     |        Lorisidae    |   Strepsirrhini |\n",
    " |      Otolemur crassicaudatus    |      Galagidae     |        Lorisidae    |   Strepsirrhini |\n",
    " |           Pan paniscus          |     Hominoidea     |       Catarrhini    |   Haplorrhini   |\n",
    " |         Perodicticus potto      |      Lorisidae     |        Lorisidae    |   Strepsirrhini |\n",
    " |       Propithecus coquereli     |      Indriidae     |       Lemuroidea    |   Strepsirrhini |\n",
    " |         Saimiri sciureus        |       Cebidae      |  Platyrrhini (NWM)  |   Haplorrhini   |\n",
    " |         Tarsius syrichta        |       Tarsiidae    |     Tarsiiformes    |   Haplorrhini   |\n",
    " |    Varecia variegata variegata  |       Lemuridae    |       Lemuroidea    |   Strepsirrhini |\n",
    "\n",
    "{% endtable %}\n",
    "    \n",
    "{% aside Setting up the Kimura 1980 (K80 or K2P) substitution model %}\n",
    "\n",
    "The K80 model (AKA the K2P model) allows the rates of transition and transversion substitutions to be unequal {% cite Kimura1980 %}. \n",
    "The parameter $\\kappa$ describes the relative rate of transition to transversion substitutions (if $\\kappa > 1$, transitions occur at a higher rate than transversions). The instantaneous-rate matrix for the K80 model is defined as:\n",
    "\n",
    "$$Q_{K80} = \\begin{pmatrix}\n",
    "                  - \t\t\t    & \\frac{1}{4} & \\frac{\\kappa}{4} & \\frac{1}{4} \\\\\n",
    "                  \\frac{1}{4} & - \t\t\t    & \\frac{1}{4} & \\frac{\\kappa}{4} \\\\\n",
    "                  \\frac{\\kappa}{4} & \\frac{1}{4} & - \t\t\t    & \\frac{1}{4} \\\\\n",
    "                  \\frac{1}{4} & \\frac{\\kappa}{4}\t& \\frac{1}{4} & -\n",
    "\\end{pmatrix} \\mbox{  .}\n",
    "$$\n",
    "\n",
    "Now, add the parameter $\\kappa$ to the substitution model, and create a K80 rate matrix:"
   ]
  },
  {
   "cell_type": "code",
   "execution_count": null,
   "metadata": {},
   "outputs": [],
   "source": [
    "kappa ~ dnExp(1)\n",
    "moves[++move_index] = mvScale(kappa, weight=1.0)\n",
    "\n",
    "Q := fnK80(kappa)"
   ]
  },
  {
   "cell_type": "markdown",
   "metadata": {},
   "source": [
    "{% endaside %}\n",
    "\n",
    "\n",
    "{% section The Hasegawa-Kishino-Yano (HKY) 1985 Substitution Model %}\n",
    "\n",
    "The Jukes-Cantor model assumes that all substitution rates are equal,\n",
    "which also implies that the stationary frequencies of the four\n",
    "nucleotide bases are equal. These assumptions are not very biologically\n",
    "reasonable, so we might wish to consider a more realistic substitution\n",
    "model that relaxes some of these assumptions. For example, we might\n",
    "allow stationary frequencies, $\\pi$, to be unequal, and allow rates of\n",
    "transition and transversion substitutions to differ, $\\kappa$. This\n",
    "corresponds to the substitution model proposed by {% cite Hasegawa1985 %},\n",
    "which is specified with the following instantaneous-rate matrix:\n",
    "\n",
    "$$Q_{HKY} = \\begin{pmatrix} \n",
    "{\\cdot} \t\t\t& {\\pi_C} \t& {\\kappa\\pi_G} \t\t\t& {\\pi_T} \\\\ \n",
    "{\\pi_A} \t\t& {\\cdot} \t\t\t& {\\pi_C} \t\t\t& {\\kappa\\pi_T} \\\\ \n",
    "{\\kappa\\pi_A} \t\t\t& {\\pi_C} \t\t\t& {\\cdot} \t\t\t& {\\pi_T} \\\\ \n",
    "{\\pi_A} \t\t\t& {\\kappa\\pi_C} \t\t\t& {\\pi_G} \t& {\\cdot}  \n",
    "\\end{pmatrix} \\mbox{  ,}$$\n",
    "\n",
    "where the diagonal ${\\cdot}$ entries are equal to the negative sum of the\n",
    "elements in the corresponding row.\n",
    "\n",
    "Use the file `mcmc_JC.Rev` as a starting point for the HKY analysis.\n",
    "\n",
    "Note that we are adding two new variables to our model. We can define a\n",
    "variable `pi` for the stationary frequencies that are drawn from a flat\n",
    "Dirichlet distribution by"
   ]
  },
  {
   "cell_type": "code",
   "execution_count": null,
   "metadata": {},
   "outputs": [],
   "source": [
    "pi_prior <- v(1,1,1,1) \n",
    "pi ~ dnDirichlet(pi_prior)"
   ]
  },
  {
   "cell_type": "markdown",
   "metadata": {},
   "source": [
    "Since `pi` is a stochastic variable, we need to specify a move to\n",
    "propose updates to it. A good move on variables drawn from a Dirichlet\n",
    "distribution is the `mvBetaSimplex`. This move randomly takes an element\n",
    "from the simplex, proposes a new value for it drawn from a Beta\n",
    "distribution, and then rescales all values of the simplex to sum to 1\n",
    "again."
   ]
  },
  {
   "cell_type": "code",
   "execution_count": null,
   "metadata": {},
   "outputs": [],
   "source": [
    "moves[mvi++] = mvBetaSimplex(pi, weight=2)\n",
    "moves[mvi++] = mvDirichletSimplex(pi, weight=1)"
   ]
  },
  {
   "cell_type": "markdown",
   "metadata": {},
   "source": [
    "The second new variable is $\\kappa$, which specifies the ratio of\n",
    "transition-transversion rates. The $\\kappa$ parameter must be a\n",
    "positive-real number and a natural choice as the prior distribution is\n",
    "the lognormal distribution:"
   ]
  },
  {
   "cell_type": "code",
   "execution_count": null,
   "metadata": {},
   "outputs": [],
   "source": [
    "kappa ~ dnLognormal(0.0, 1.0)"
   ]
  },
  {
   "cell_type": "markdown",
   "metadata": {},
   "source": [
    "Again, we need to specify a move for this new stochastic variable. A\n",
    "simple scaling move should do the job."
   ]
  },
  {
   "cell_type": "code",
   "execution_count": null,
   "metadata": {},
   "outputs": [],
   "source": [
    "moves[mvi++] = mvScale(kappa)"
   ]
  },
  {
   "cell_type": "markdown",
   "metadata": {},
   "source": [
    "Finally, we need to create the HKY instantaneous-rate matrix using the\n",
    "`fnHKY` function:"
   ]
  },
  {
   "cell_type": "code",
   "execution_count": null,
   "metadata": {},
   "outputs": [],
   "source": [
    "Q := fnHKY(kappa,pi)"
   ]
  },
  {
   "cell_type": "markdown",
   "metadata": {},
   "source": [
    "This should be all for the HKY model. Don’t forget to change the output file names, otherwise your old analyses files will be overwritten.\n",
    "\n",
    "{% subsection Exercise 2 %}\n",
    "\n",
    "-   With {% ref jc_graphical_model %} as your guide, draw the probabilistic\n",
    "    graphical model of the HKY model.\n",
    "\n",
    "-   Download the file called [`mcmc_JC.Rev`](scripts/mcmc_JC.Rev) and rename it\n",
    "    `mcmc_HKY.Rev`. Save this file in a directory called `scripts` located in the same\n",
    "    directory as your `data` folder.\n",
    "\n",
    "-   Modify `mcmc_HKY.Rev` by including the\n",
    "    necessary parameters to specify the HKY substitution model.\n",
    "\n",
    "-   Run an MCMC analysis to estimate the posterior distribution under\n",
    "    the HKY substitution model.\n",
    "\n",
    "-   Are the resulting estimates of the base frequencies equal? If not,\n",
    "    how much do they differ? Are the estimated base frequencies similar\n",
    "    to the empirical base frequencies? The empirical base frequencies\n",
    "    are the frequencies of the characters in the alignment, which can be\n",
    "    computed with RevBayes by `data.getEmpiricalBaseFrequencies()`.\n",
    "\n",
    "-   Is the inferred rate of transition substitutions higher than the\n",
    "    rate of transversion substitutions? If so, by how much?\n",
    "\n",
    "-   Like the HKY model, the Felsenstein 1981 (F81) substitution model\n",
    "    has unequal stationary frequencies, but it assumes equal\n",
    "    transition-transversion rates {% cite Felsenstein1981 %}. \n",
    "    Can you set up the F81 model and run an analysis?\n",
    "\n",
    "-   Complete the {% ref tab_primates_posterior %} by reporting the posterior\n",
    "    probabilities of phylogenetic relationships.\n",
    "\n",
    "\n",
    "{% section The General Time-Reversible (GTR) Substitution Model %}\n",
    "\n",
    "The HKY substitution model can accommodate unequal base frequencies and\n",
    "different rates of transition and transversion substitutions. Despite\n",
    "these extensions, the HKY model may still be too simplistic for many\n",
    "real datasets. Here, we extend the HKY model to specify the General Time\n",
    "Reversible (GTR) substitution model {% cite Tavare1986 %}, which allows all six\n",
    "exchangeability rates to differ ({% ref gtr_graphical_model %}).\n",
    "\n",
    "The instantaneous-rate matrix for the GTR substitution model is:\n",
    "\n",
    "$$ Q_{GTR} = \\begin{pmatrix}\n",
    "{\\cdot}\t   & {r_{AC}\\pi_C} & {r_{AG}\\pi_G} & {r_{AT}\\pi_T} \\\\\n",
    "{r_{AC}\\pi_A} & {\\cdot}       & {r_{CG}\\pi_G} & {r_{CT}\\pi_T} \\\\\n",
    "{r_{AG}\\pi_A} & {r_{CG}\\pi_C} & {\\cdot}       & {r_{GT}\\pi_T} \\\\\n",
    "{r_{AT}\\pi_A} & {r_{CT}\\pi_C} & {r_{GT}\\pi_G} & {\\cdot}       \\\\\n",
    "\\end{pmatrix} \\mbox{  ,} $$\n",
    "\n",
    "where the six exchangeability parameters, $r_{ij}$, specify the relative\n",
    "rates of change between states $i$ and $j$.\n",
    "\n",
    "{% figure gtr_graphical_model %}\n",
    "<img src=\"figures/gtr_graphical_model.png\" />\n",
    "{% figcaption %} \n",
    "Graphical model representation of the general-time reversible (GTR) phylogenetic model.\n",
    "{% endfigcaption %}\n",
    "{% endfigure %}\n",
    "\n",
    "The GTR model requires that we define and specify a prior on the six\n",
    "exchangeability rates, which we will describe using a flat Dirichlet\n",
    "distribution. As we did previously for the Dirichlet prior on base\n",
    "frequencies, we first define a constant node specifying the vector of\n",
    "concentration-parameter values using the `v()` function:"
   ]
  },
  {
   "cell_type": "code",
   "execution_count": null,
   "metadata": {},
   "outputs": [],
   "source": [
    "er_prior <- v(1,1,1,1,1,1) "
   ]
  },
  {
   "cell_type": "markdown",
   "metadata": {},
   "source": [
    "This node defines the concentration-parameter values of the Dirichlet\n",
    "prior distribution on the exchangeability rates. Now, we can create a\n",
    "stochastic node for the exchangeability rates using the `dnDirichlet()`\n",
    "function, which takes the vector of concentration-parameter values as an\n",
    "argument and the `~` operator. Together, these create a stochastic node\n",
    "named `er` ($\\theta$ in {% ref gtr_graphical_model %}):"
   ]
  },
  {
   "cell_type": "code",
   "execution_count": null,
   "metadata": {},
   "outputs": [],
   "source": [
    "er ~ dnDirichlet(er_prior)"
   ]
  },
  {
   "cell_type": "markdown",
   "metadata": {},
   "source": [
    "The Dirichlet distribution assigns probability densities to a group of parameters: *e.g.*,  those that measure proportions and must sum to 1. Here, we have specified a six-parameter Dirichlet prior, where each value describes one of the six relative rates of the GTR model: (1) $A\\leftrightarrows C$; (2) $A\\leftrightarrows G$; (3) $A\\leftrightarrows T$; (4) $C\\leftrightarrows G$; (5) $C\\leftrightarrows T$; (6) $G\\leftrightarrows T$. The input parameters of a Dirichlet distribution are called shape (or concentration) parameters. The expectation and variance for each variable are related to the sum of the shape parameters. The prior we specified above is a ‘flat’ or symmetric Dirichlet distribution; all of the shape parameters are equal (1,1,1,1,1,1). This describes a model that allows for equal rates of change between nucleotides, such that the expected rate for each is equal to $\\frac{1}{6}$ ({% ref dirichletFig %}a). \n",
    "\n",
    "We might also parameterize the Dirichlet distribution such that all of the shape parameters were equal to 100, which would also specify a prior with an expectation of equal exchangeability rates ({% ref dirichletFig %}b). However, by increasing the values of the shape parameters, `er_prior <- v(100,100,100,100,100,100)`, the Dirichlet distribution will more strongly favor equal exchangeability rates; (*i.e.*, a relatively informative prior). \n",
    "\n",
    "Alternatively, we might consider an asymmetric Dirichlet parameterization that could reflect a strong prior belief that transition and transversion substitutions occur at different rates. For example, we might specify the prior density `er_prior <- v(4,8,4,4,8,4)`. Under this model, the expected rate for transversions would be $\\frac{4}{32}$ and that for transitions would be $\\frac{8}{32}$, and there would be greater prior probability on sets of GTR rates that matched this configuration ({% ref dirichletFig %}c). \n",
    "\n",
    "Yet another asymmetric prior could specify that each of the six GTR rates had a different value conforming to a Dirichlet(2,4,6,8,10,12). This would lead to a different prior probability density for each rate parameter ({% ref dirichletFig %}d). Without strong prior knowledge about the pattern of relative rates, however, we can better reflect our uncertainty by using a vague prior on the GTR rates. Notably, all patterns of relative rates have the same probability density under `er_prior <- v(1,1,1,1,1,1)`.\n",
    "\n",
    "{% figure dirichletFig %}\n",
    "<img src=\"figures/dirichlet_rates.png\" width=\"600\" />\n",
    "{% figcaption %}\n",
    "Four different examples of Dirichlet priors on exchangeability rates.\n",
    "{% endfigcaption %}\n",
    "{% endfigure %}\n",
    "\n",
    "For each stochastic node in our model, we must also specify a proposal mechanism if we wish to estimate that parameter. The Dirichlet prior on our parameter `er` creates a [*simplex*](http://en.wikipedia.org/wiki/Simplex) of values that sum to 1."
   ]
  },
  {
   "cell_type": "code",
   "execution_count": null,
   "metadata": {},
   "outputs": [],
   "source": [
    "moves[mvi++] = mvBetaSimplex(er, weight=3)\n",
    "moves[mvi++] = mvDirichletSimplex(er, weight=1)"
   ]
  },
  {
   "cell_type": "markdown",
   "metadata": {},
   "source": [
    "We can use the same type of distribution as a prior on the 4 stationary\n",
    "frequencies ($\\pi_A, \\pi_C, \\pi_G, \\pi_T$) since these parameters also\n",
    "represent proportions. Specify a flat Dirichlet prior density on the\n",
    "base frequencies:"
   ]
  },
  {
   "cell_type": "code",
   "execution_count": null,
   "metadata": {},
   "outputs": [],
   "source": [
    "pi_prior <- v(1,1,1,1) \n",
    "pi ~ dnDirichlet(pi_prior)"
   ]
  },
  {
   "cell_type": "markdown",
   "metadata": {},
   "source": [
    "The node `pi` represents the $\\pi$ node in {% ref gtr_graphical_model %}. Now add the simplex scale move on the stationary frequencies to the moves vector:"
   ]
  },
  {
   "cell_type": "code",
   "execution_count": null,
   "metadata": {},
   "outputs": [],
   "source": [
    "moves[mvi++] = mvBetaSimplex(pi, weight=2)\n",
    "moves[mvi++] = mvDirichletSimplex(pi, weight=1)"
   ]
  },
  {
   "cell_type": "markdown",
   "metadata": {},
   "source": [
    "We can finish setting up this part of the model by creating a deterministic node for the GTR instantaneous-rate matrix `Q`. The `fnGTR()` function takes a set of exchangeability rates and a set of base frequencies to compute the instantaneous-rate matrix used when calculating the likelihood of our model."
   ]
  },
  {
   "cell_type": "code",
   "execution_count": null,
   "metadata": {},
   "outputs": [],
   "source": [
    "Q := fnGTR(er,pi)"
   ]
  },
  {
   "cell_type": "markdown",
   "metadata": {},
   "source": [
    "{% subsection Exercise 3 %}\n",
    "\n",
    "-   Use one of your previous analysis files—either the `mcmc_JC.Rev` or\n",
    "    `HKY.Rev`—to specify a GTR analysis in a new file called\n",
    "    `mcmc_GTR.Rev`. Adapt the old analysis to be performed under the\n",
    "    GTR substitution model.\n",
    "\n",
    "-   Run an MCMC analysis to estimate the posterior distribution.\n",
    "\n",
    "-   Complete the table of the phylogenetic relationship of primates.\n",
    "\n",
    "{% section The Discrete Gamma Model of Among Site Rate Variation %}\n",
    "\n",
    "Members of the GTR family of substitution models assume that rates are homogeneous across sites, an assumption that is often violated by real data. We can accommodate variation in substitution rate among sites (ASRV) by adopting the discrete-gamma model {% cite Yang1994a %}. This model assumes that the substitution rate at each site is a random variable that is described by a discretized gamma distribution, which has two parameters: the shape parameter, $\\alpha$, and the rate parameter, $\\beta$. In order that we can interpret the branch lengths as the expected number of substitutions per site, this model assumes that the mean site rate is equal to 1. The mean of the gamma is equal to $\\alpha/\\beta$, so a mean-one gamma is specified by setting the two parameters to be equal, $\\alpha=\\beta$. This means that we can fully describe the gamma distribution with the single shape parameter, $\\alpha$. The degree of among-site substitution rate variation is inversely proportional to the value of the $\\alpha$-shape parameter. As the value of the $\\alpha$-shape increases, the gamma distribution increasingly resembles a normal distribution with decreasing variance, which therefore corresponds to decreasing levels of ASRV ({% ref asrhGammaFig %}). By contrast, when the value of the $\\alpha$-shape parameter is $< 1$, the gamma distribution assumes a concave distribution that concentrates most of the prior density on low rates, but retains some prior mass on sites with very high rates, which therefore corresponds to high levels of ASRV ({% ref asrhGammaFig %}). Note that, when $\\alpha = 1$, the gamma distribution collapses to an exponential distribution with a rate parameter equal to $\\beta$.\n",
    "\n",
    "{% figure asrhGammaFig %}\n",
    "<img src=\"figures/asrh_gamma.png\" width=\"600\" />\n",
    "{% figcaption %}\n",
    "The probability density of mean-one gamma-distributed rates for different values of the $\\alpha$-shape parameter.\n",
    "{% endfigcaption %}\n",
    "{% endfigure %}\n",
    "\n",
    "We typically lack prior knowledge regarding the degree of ASRV for a given alignment. \n",
    "Accordingly, rather than specifying a precise value of $\\alpha$, we can instead estimate the value of the $\\alpha$-shape parameter from the data. This requires that we specify a diffuse (relatively ['uninformative'](http://andrewgelman.com/2013/11/21/hidden-dangers-noninformative-priors/)) prior on the $\\alpha$-shape parameter. For this analysis, we will use a lognormal distribution with a mean parameter, `alpha_prior_mean`, equal to `5.0`, and standard deviation, `alpha_prior_sd`, equal to 0.587405 (thus, 95% of the prior density spans exactly one order of magnitude).\n",
    "\n",
    "This approach for accommodating ASRV is another example of a hierarchical model ({% ref fig_gtrg %}). \n",
    "That is, variation in substitution rates across sites is addressed by applying a site-specific rate multiplier to each of the $j$ sites, $r_j$. \n",
    "These rate-multipliers are drawn from a discrete, mean-one gamma distribution; the shape of this prior distribution (and the corresponding degree of ASRV) is governed by the $\\alpha$-shape parameter. The $\\alpha$-shape parameter, in turn, is treated as a lognormal distributed random variable. Finally, the shape of the lognormal prior is governed by the mean and standard deviation parameters, which are set to fixed values.\n",
    "\n",
    "{% figure fig_gtrg %}\n",
    "![]( figures/gtrg_graphical_model.png) \n",
    "{% figcaption %}\n",
    "Graphical model representation of the General Time Reversible (GTR) + Gamma phylogenetic model with invariable sites.\n",
    "{% endfigcaption %}\n",
    "{% endfigure %}\n",
    "\n",
    "{% subsubsection Setting up the Gamma Model in RevBayes %}\n",
    "\n",
    "Then create a stochastic node called `alpha` with a uniform prior distribution between 0.0 and $10^8$\n",
    "(this represents the stochastic node for the $\\alpha$-shape parameter in\n",
    "{% ref fig_gtrg %}):"
   ]
  },
  {
   "cell_type": "code",
   "execution_count": null,
   "metadata": {},
   "outputs": [],
   "source": [
    "alpha ~ dnUniform( 0.0, 1E8 )\n",
    "alpha.setValue(1.0)"
   ]
  },
  {
   "cell_type": "markdown",
   "metadata": {},
   "source": [
    "Note that we initialized the value of `alpha` to $1.0$. This is strictly speaking not necessary but helps tremendously the MCMC to converge.\n",
    "As a general rule, it is possible to initialize starting values for the MCMC using the *setValue( xx )* function, which is available for every stochastic variable,\n",
    "but it might also make your replicated MCMC runs to be more likely to get stuck in the same local area of parameters.\n",
    "\n",
    "The way the ASRV model is implemented involves discretizing the mean-one gamma distribution into a set number of rate categories, $k$. Thus, we can analytically marginalize over the uncertainty in the rate at each site. The likelihood of each site is averaged over the $k$ rate categories, where the rate multiplier is the mean (or median) of each of the discrete $k$ categories. To specify this, we need a deterministic node that is a vector that will hold the set of $k$ rates drawn from the gamma distribution with $k$ rate categories. The `fnDiscretizeGamma()` function returns this deterministic node and takes three arguments: the shape and rate of the gamma distribution and the number of categories. Since we want to discretize a mean-one gamma distribution, we can pass in `alpha` for both the shape and rate.\n",
    "\n",
    "Initialize the `gamma_rates` deterministic node vector using the `fnDiscretizeGamma()` function with `4` bins:"
   ]
  },
  {
   "cell_type": "code",
   "execution_count": null,
   "metadata": {},
   "outputs": [],
   "source": [
    "gamma_rates := fnDiscretizeGamma( alpha, alpha, 4 )"
   ]
  },
  {
   "cell_type": "markdown",
   "metadata": {},
   "source": [
    "Note that here, by convention, we set $k = 4$. The random variable that controls the rate variation is the stochastic node `alpha`. We will apply a simple scale move to this parameter."
   ]
  },
  {
   "cell_type": "code",
   "execution_count": null,
   "metadata": {},
   "outputs": [],
   "source": [
    "moves[mvi++] = mvScale(alpha, weight=2.0)"
   ]
  },
  {
   "cell_type": "markdown",
   "metadata": {},
   "source": [
    "Remember that you need to call the `PhyloCTMC` constructor to include the new site-rate parameter:"
   ]
  },
  {
   "cell_type": "code",
   "execution_count": null,
   "metadata": {},
   "outputs": [],
   "source": [
    "seq ~ dnPhyloCTMC(tree=psi, Q=Q, siteRates=gamma_rates, type=\"DNA\")"
   ]
  },
  {
   "cell_type": "markdown",
   "metadata": {},
   "source": [
    "{% subsection Exercise 4 %}\n",
    "\n",
    "\n",
    "-   Modify the previous GTR analysis to specify the GTR+Gamma model. \n",
    "    Run an MCMC simulation to estimate the posterior distribution.\n",
    "\n",
    "-   Is there an impact on the estimated phylogeny compared with the\n",
    "    previous analyses? Look at the MAP tree and the posterior\n",
    "    probabilities of the clades.\n",
    "\n",
    "-   Complete the table of the phylogenetic relationship of primates.\n",
    "\n",
    "{% section Modeling Invariable Sites %}\n",
    "\n",
    "All of the substitution models described so far assume that the sequence data are potentially variable. That is, we assume that the sequence data are random variables; specifically, we assume that they are realizations of the specified `PhyloCTMC` distribution. However, some sites may not be free to vary—when the substitution rate of a site is zero, it is said to be *invariable*. Invariable sites are often confused with *invariant* sites—when each species exhibits the same state, it is said to be invariant. The concepts are related but distinct. If a site is truly invariable, it will necessarily give rise to an invariant site pattern, as such sites will always have a zero substitution rate. However, an invariant site pattern may be achieved via multiple substitutions that happen to end in the same state for every species.\n",
    "\n",
    "Here we describe an extension to our phylogenetic model to accommodate invariable sites. Under the invariable-sites model {% cite Hasegawa1985 %}, each site is invariable with probability `pinvar`, and variable with probability $1-$`pinvar`.\n",
    "\n",
    "First, let’s have a look at the data and see how many invariant sites we have:"
   ]
  },
  {
   "cell_type": "code",
   "execution_count": null,
   "metadata": {},
   "outputs": [],
   "source": [
    "data.getNumInvariantSites()"
   ]
  },
  {
   "cell_type": "markdown",
   "metadata": {},
   "source": [
    "There seem to be a substantial number of invariant sites.\n",
    "\n",
    "Now let’s specify the invariable-sites model in RevBayes. We need to specify the prior probability that a site is invariable. A Beta distribution is a common choice for parameters representing probabilities."
   ]
  },
  {
   "cell_type": "code",
   "execution_count": null,
   "metadata": {},
   "outputs": [],
   "source": [
    "pinvar ~ dnBeta(1,1)"
   ]
  },
  {
   "cell_type": "markdown",
   "metadata": {},
   "source": [
    "The `Beta(1,1)` distribution is a flat prior distribution that specifies equal probability for all values between 0 and 1.\n",
    "\n",
    "Then, as usual, we add a move to change this stochastic variable; we’ll use a simple sliding window move."
   ]
  },
  {
   "cell_type": "code",
   "execution_count": null,
   "metadata": {},
   "outputs": [],
   "source": [
    "moves[mvi++] = mvSlide(pinvar)"
   ]
  },
  {
   "cell_type": "markdown",
   "metadata": {},
   "source": [
    "Finally, you need to call the `PhyloCTMC` constructor to include the\n",
    "new `pinvar` parameter:"
   ]
  },
  {
   "cell_type": "code",
   "execution_count": null,
   "metadata": {},
   "outputs": [],
   "source": [
    "seq ~ dnPhyloCTMC(tree=psi, Q=Q, siteRates=gamma_rates, pInv=pinvar, type=\"DNA\")"
   ]
  },
  {
   "cell_type": "markdown",
   "metadata": {},
   "source": [
    "{% subsection Exercise 5 %}\n",
    "\n",
    "-   Extend the GTR model to account for invariable sites and run\n",
    "    an analysis.\n",
    "\n",
    "-   What is the estimated probability of invariable sites and how does\n",
    "    it relate to the ratio of invariant sites to the total number of\n",
    "    sites?\n",
    "\n",
    "-   Extend the GTR+$\\Gamma$ model to account for invariable sites and\n",
    "    run an analysis.\n",
    "\n",
    "-   What is the estimated probability of invariable sites now?\n",
    "\n",
    "-   Complete the table of the phylogenetic relationship of primates."
   ]
  },
  {
   "cell_type": "markdown",
   "metadata": {},
   "source": [
    "# References\n",
    "\n",
    "<mark> <b>The bib file ../master_refs.bib was not found\n",
    "\n",
    "</b> </mark>[<a id=\"cit-Hoehna2017a\" href=\"#call-Hoehna2017a\">1</a>] !! _This reference was not found in ../master_refs.bib _ !!\n",
    "\n"
   ]
  }
 ],
 "metadata": {
  "kernelspec": {
   "display_name": "Python 3",
   "language": "python",
   "name": "python3"
  },
  "language_info": {
   "codemirror_mode": {
    "name": "ipython",
    "version": 3
   },
   "file_extension": ".py",
   "mimetype": "text/x-python",
   "name": "python",
   "nbconvert_exporter": "python",
   "pygments_lexer": "ipython3",
   "version": "3.6.5"
  },
  "latex_envs": {
   "LaTeX_envs_menu_present": true,
   "autoclose": false,
   "autocomplete": true,
   "bibliofile": "../master_refs.bib",
   "cite_by": "number",
   "current_citInitial": 1,
   "eqLabelWithNumbers": true,
   "eqNumInitial": 1,
   "hotkeys": {
    "equation": "Ctrl-E",
    "itemize": "Ctrl-I"
   },
   "labels_anchors": true,
   "latex_user_defs": false,
   "report_style_numbering": false,
   "user_envs_cfg": false
  }
 },
 "nbformat": 4,
 "nbformat_minor": 2
}
