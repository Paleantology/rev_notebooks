{
 "cells": [
  {
   "cell_type": "markdown",
   "metadata": {},
   "source": [
    "# Combined-Evidence Analysis and the Fossilized Birth-Death Process for Stratigraphic Range Data\n",
    "## Joint inference of divergence times and phylogenetic relationships of fossil and extant taxa\n",
    "### Tracy A. Heath, April M. Wright, and Walker Pett\n",
    "\n",
    "Prerequisites:\n",
    "- intro\n",
    "- intro_rev\n",
    "- mcmc_archery\n",
    "- ctmc\n",
    "\n",
    "# Overview \n",
    "\n",
    "This tutorial demonstrates how to specify the models used in a Bayesian\n",
    "\"combined-evidence\" phylogenetic analysis of extant and fossil species,\n",
    "combining morphological and molecular data as well as stratigraphic\n",
    "range data from the fossil record\n",
    "\\cite{Ronquist2012a, Zhang2016, Gavryushkina2016}. \n",
    "We begin with a concise\n",
    "introduction to the models used in this analysis in the introduction section, \n",
    "followed by a detailed example analysis in Exercise 1 demonstrating how to apply these models in\n",
    "RevBayes \\cite{Hoehna2017a} and use Markov chain Monte Carlo (MCMC) to\n",
    "estimate the posterior distribution of dated phylogenies for data\n",
    "collected from living and fossil bears (family Ursidae). \n",
    "\n",
    "\n",
    "# Introduction\n",
    "\n",
    "The \"combined-evidence\" analysis described in this tutorial uses a\n",
    "probabilistic graphical model \\cite{Hoehna2014b} integrating three separate\n",
    "likelihood components or data partitions (Fig. 1): one\n",
    "for molecular data (Intro-GTR), one for\n",
    "morphological data (Intro-Morpho), and one for\n",
    "fossil stratigraphic range data (Intro-FBD).\n",
    "In addition, all likelihood components are conditioned on a tree\n",
    "topology with divergence times which is modeled according to a separate\n",
    "prior component (defined in Intro-FBD).\n",
    "\n",
    "\n",
    "<img src=\"figures/tikz/full_model_modular.png\" width=\"700\" /> \n",
    "**Fig 1:** Modular components of the graphical model used in the \"combined-evidence\" \n",
    "analysis described in this tutorial.\n",
    "\n",
    "\n",
    "In Fig. 2, we provide an example of a type of tree\n",
    "estimated from a combined-evidence analysis. This example shows the\n",
    "complete tree Fig. 2A and the \"reconstructed tree\"\n",
    "Fig. 2B. We will describe the distinction between these two trees in \n",
    "the section on the introduction.\n",
    "\n",
    "<img src=\"figures/complete_tree.png\" width=\"400\" />\n",
    "<img src=\"figures/reconstructed_tree.png\" width=\"400\" /> \n",
    "**Fig 2:** One possible realization of the specimen-level fossilized birth-death (described in the introduction) (A) The complete tree shows all lineages both sampled (solid lines) and unsampled (dotted lines). (B) The reconstructed tree shows only the sampled specimens, both fossil and extant.\n",
    "\n",
    "\n",
    "## Lineage Diversification and Sampling\n",
    "\n",
    "The joint prior distribution on tree topologies and divergence times of\n",
    "living and extinct species used in this tutorial is described by the\n",
    "*fossilized birth-death* (FBD) process \\cite{Stadler2010, Heath2014, Stadler2018}. This\n",
    "model simply treats the fossil observations as part of the process governing the tree topology and branch times (the 'Time Tree Model' node in Fig. 3). The fossilized birth-death process provides a model for the distribution of speciation and sampling events *i.e.* tree topology,  speciation times, number of sampled living taxa, and\n",
    "lineage samples before the present (*e.g.* non-contemporaneous samples like\n",
    "fossils or viruses). This type of tree is shown in Fig. 2b. \n",
    "Importantly, this model can be used *with or without* character data for the historical samples. Thus, it provides a\n",
    "reasonable prior distribution for analyses combining morphological or DNA data for both extant and fossil taxa—*i.e.* the so-called \"combined-evidence\" or \"total evidence\" approaches described by Ronquist \\cite{Ronquist2012a} and extended by \\cite{Zhang2016} and \\cite{Gavryushkina2016}. When matrices of discrete morphological characters\n",
    "for both living and fossil species are unavailable, the fossilized birth-death model imposes a time structure on the tree by [*marginalizing*](https://en.wikipedia.org/wiki/Marginal_distribution)\n",
    "over all possible attachment points for the fossils on the extant tree \\cite{Heath2014}, therefore, some prior knowledge of phylogenetic relationships is important.\n",
    "\n",
    "The FBD model (Fig. 3) describes the probability of the\n",
    "tree and fossils conditional on the birth-death parameters: $f[\\mathcal{T} \\mid \\lambda, \\mu, \\rho, \\psi, \\phi]$, where $\\mathcal{T}$ denotes the tree topology, divergence times fossil occurrence times and the times at which the fossils attach to the tree. The birth-death parameters $\\lambda$ and $\\mu$ denote the speciation and\n",
    "extinction rates, respectively. The 'fossil recovery rate' is denoted $\\psi$ and describes the rate at which fossils\n",
    "are sampled along lineages of the complete tree. The sampling probability parameter $\\rho$ represents the *probability* that an extant species is sampled, and $\\phi$ represents the time at which the process\n",
    "originated (called the 'origin time').\n",
    "\n",
    "\n",
    "<img src=\"figures/tikz/fbd_gm.png\" width=\"500\"/> \n",
    "**Fig. 3** A graphical model of the fossilized birth-death model describing the generation of the time tree (in Fig. 2) used in this tutorial. The parameters of the fossilized birth-death process are labeled in orange. The speciation,\n",
    "extinction and fossilization rates are stochastic nodes (circles) drawn from exponential distributions, while the origin time is uniformly distributed. The sampling probability is constant node (square) and equal to one for the tree in (Fig. 2) and for the analysis in the exercise given in this tutorial. This model represents the phylogenetic continuous-time Markov chain that links the tree model to the other model components and the observed sequence data. For more information on probabilistic graphical models and their notation, please see \\cite{Hoehna2014b}.\n",
    "\n",
    "In the example FBD tree shown in Fig. 2, the diversification process originates at time $\\phi$, giving rise to $n=10$\n",
    "species in the present, with both sampled fossils and extant species. All of the lineages represented in Fig. 2A \n",
    "(both solid and dotted lines) show the *complete tree*. This is the tree of all extant *and* extinct lineages\n",
    "generated by the process. The complete tree is distinct from the *reconstructed tree* (Fig. 2B) which is the tree representing only the lineages sampled as extant taxa or fossils. Fossil observations (non-extant red circles in Fig. 2) are recovered over the lifetime of the process along the lineages of the complete tree. If a lineage does not have any descendants sampled in the present (or at the moment it goes extinct), it is lost and cannot be observed, these are the dotted lines in  Fig. 2A. The probability must be conditioned on the origin time of the process $\\phi$. The origin ($\\phi$) of a birth-death process is the starting time of the *stem* lineage, thus this conditions on a\n",
    "single lineage giving rise to the tree.\n",
    "\n",
    "An important characteristic of the FBD model is that it accounts for the probability of sampled ancestor-descendant pairs \\cite{foote1996}. Given that fossils are sampled from lineages in the diversification process,\n",
    "the probability of sampling fossils that are ancestors to taxa sampled at a later date is correlated with the turnover rate ($r=\\mu/\\lambda$), the fossil recovery rate ($\\psi$), and the probability of sampling an extant taxon ($\\rho$). \n",
    "This feature is important, particularly for datasets with many sampled fossils. In the example (Fig. 2), several of the fossils have sampled descendants. These fossils have solid black lines leading to the present.\n",
    "\n",
    "## Assignment of fossil specimens to taxonomic species\n",
    "\n",
    "The most basic version of the FBD treats individual fossil specimens as separate taxonomic entities. This is the standard specimen-level \"Fossilized Birth Death Process\" (implemented as `FBDP` in RevBayes). However, in most cases taxonomic species are represented in the fossil record by multiple fossil specimens sampled at different stratigraphic ages. These *stratigraphic ranges* are the first and last occurrences observed for a single morpho-species in the fossil record (for extant species, the last occurrence is the present day). In order to compute the density of the FBD while accounting for this stratigraphic species range data, we need to assume some model of speciation that will allow us to assign fossil specimens to species. \\cite{Stadler2018} describe an extension to the FBD which assigns lineages to taxonomic species through a process of asymmetric or \"budding\" speciation. This model assumes that at each asymmetric speciation event, one descendant species represents a new species, while the other descendant represents the continuation of the parent species. In this way, each lineage (and therefore all the fossil specimens sampled along that lineage) can be mapped to a unique species. An example realization of such a speciation process is shown in Fig. 4.\n",
    "\n",
    "<img src=\"figures/budding1.png\" width=\"400\" />\n",
    "$$\\implies$$\n",
    "<img src=\"figures/budding2.png\" width=\"400\" /> \n",
    "**Fig. 4** One possible realization of asymmetric speciation (light blue) along one lineage of the fossilized birth \n",
    "death tree from Fig. 2.\n",
    "(A) The highlighted lineage originates through an asymmetric speciation event by branching upward,\n",
    "and then continues past additional speciation events by downward branching. Fossil specimens lying along this path are assigned to the same taxonomic species.\n",
    "(B) The same lineage is highlighted in the oriented tree with lineages representing the same species collapsed into straight lines.\n",
    "\n",
    "Stadler \\cite{Stadler2018}show how to compute the density of the \"sampled tree\", which is obtained by pruning all unsampled lineages after asymmetric species identities have been assigned in the complete tree (Fig. 4a). This gives rise to the \"Fossilized Birth Death Range Process\" (implemented as `FBDRP` in RevBayes). This is the model we will be using in this tutorial. It is important to note that the tips in the sampled tree represent the age of the youngest sample for each species.\n",
    "\n",
    "<img src=\"figures/sampled_tree.png\" width=\"400\" /> \n",
    "**Fig. 5** The \"sampled tree\" is produced by pruning unsampled lineages from the oriented tree in {% ref fig_budding %}B and collapsing intermediate fossil samples other than the first and last occurrences into stratigraphic ranges.\n",
    "\n",
    "## The General Time-Reversible + Gamma Model of Nucleotide Sequence Evolution \n",
    "\n",
    "In this section we will define our nucleotide sequence evolution model.\n",
    "\n",
    "> Open your text editor and create the molecular substitution model file\n",
    "> called model_GTR.Rev in the `scripts` directory.\n",
    ">\n",
    ">Enter the Rev code provided in this section in the new model file.\n",
    "\n",
    "For our nucleotide sequence evolution model, we need to define a general\n",
    "time-reversible (GTR) instantaneous-rate matrix (*i.e.* $Q$-matrix). A nucleotide GTR matrix\n",
    "is defined by a set of 4 stationary frequencies, and 6 exchangeability\n",
    "rates. We create stochastic nodes for these variables, each drawn from a uniform Dirichlet prior distribution."
   ]
  },
  {
   "cell_type": "code",
   "execution_count": null,
   "metadata": {},
   "outputs": [],
   "source": [
    "# Initialize the parameters of substitution matrix #\n",
    "# Both the stationary frequencies and exchangeability rates #\n",
    "# are drawn from uniform Dirichlet distributions #\n",
    "\n",
    "# First the stationary frequencies #\n",
    "sf_hp <- v(1,1,1,1)\n",
    "sf ~ dnDirichlet(sf_hp)\n",
    "\n",
    "# Then the exchangeability rates #\n",
    "er_hp <- v(1,1,1,1,1,1)\n",
    "er ~ dnDirichlet(er_hp)\n",
    "\n",
    "moves[mvi++] = mvSimplexElementScale(er, alpha=10.0, weight=5.0)\n",
    "moves[mvi++] = mvSimplexElementScale(sf, alpha=10.0, weight=5.0)\n"
   ]
  },
  {
   "cell_type": "markdown",
   "metadata": {},
   "source": [
    "We need special moves to propose changes to a Dirichlet random variable, also known as a simplex (a vector constrained sum to one). Here, we use a `mvSimplexElementScale` move, which scales a single element of a simplex and then renormalizes the vector to sum to one. The tuning parameter `alpha` specifies how conservative the proposal should be,\n",
    "with larger values of `alpha` leading to proposals closer to the current value.\n",
    "\n",
    "Then we can define a deterministic node for our GTR $Q$-matrix using the\n",
    "special GTR matrix function (`fnGTR`)."
   ]
  },
  {
   "cell_type": "code",
   "execution_count": null,
   "metadata": {},
   "outputs": [],
   "source": [
    "# Create the matrix #\n",
    "Q_cytb := fnGTR(er,sf)"
   ]
  },
  {
   "cell_type": "markdown",
   "metadata": {},
   "source": [
    "Next, in order to model gamma-distributed rates across, we create an\n",
    "exponential parameter $\\alpha$ for the shape of the gamma distribution,\n",
    "along with scale proposals. Then we create a Gamma$(\\alpha,\\alpha)$ distribution, discretized into 4\n",
    "rate categories using the `fnDiscretizeGamma` function. Here,\n",
    "`rates_cytb` is a deterministic vector of rates computed as the mean of\n",
    "each category."
   ]
  },
  {
   "cell_type": "code",
   "execution_count": null,
   "metadata": {},
   "outputs": [],
   "source": [
    "# Create a discretized gamma distribution of rate categories  #\n",
    "# the shape parameter is drawn from an exponential prior #\n",
    "alpha_cytb ~ dnExponential( 1.0 )\n",
    "\n",
    "moves[mvi++] = mvScale(alpha_cytb, lambda=0.01, weight=1.0)\n",
    "moves[mvi++] = mvScale(alpha_cytb, lambda=0.1,  weight=1.0)\n",
    "moves[mvi++] = mvScale(alpha_cytb, lambda=1,    weight=1.0)\n",
    "\n",
    "rates_cytb := fnDiscretizeGamma( alpha_cytb, alpha_cytb, 4 )"
   ]
  },
  {
   "cell_type": "markdown",
   "metadata": {},
   "source": [
    "Finally, we can create the phylogenetic continuous time Markov chain\n",
    "(PhyloCTMC) distribution for our sequence data, including the\n",
    "gamma-distributed site rate categories, as well as the branch rates\n",
    "defined as part of our exponential relaxed clock. We set the value of\n",
    "this distribution equal to our observed data and identify it as a static\n",
    "part of the likelihood using the `clamp` method."
   ]
  },
  {
   "cell_type": "code",
   "execution_count": 1,
   "metadata": {},
   "outputs": [
    {
     "name": "stdout",
     "output_type": "stream",
     "text": [
      "   Missing Variable:\tVariable fbd_tree does not exist\n",
      "   Missing Variable:\tVariable cytb does not exist\n"
     ]
    }
   ],
   "source": [
    "### Create the substitution model and clamp with our observed DNA data ###\n",
    "phySeq ~ dnPhyloCTMC(tree=fbd_tree, Q=Q_cytb, siteRates=rates_cytb, branchRates=branch_rates, type=\"DNA\")\n",
    "phySeq.clamp(cytb)"
   ]
  },
  {
   "cell_type": "markdown",
   "metadata": {},
   "source": [
    ">You have completed the GTR model file. Save `model_GTRG.Rev` in\n",
    ">the `scripts` directory.\n",
    "\n",
    "We will now move on to the next model file.\n",
    "\n",
    "## Modeling the Evolution of Binary Morphological Characters\n",
    "\n",
    "In this section we will define the model of morphological character evolution.\n",
    "\n",
    "> Open your text editor and create the morphological character model file\n",
    "> called `model_Morph.Rev` in the `scripts` directory.\n",
    "\n",
    "As stated in the introduction morphology section, we will use Mk to model our data. Because the Mk model is a generalization of the Jukes-Cantor model, we will initialize our Q matrix from a Jukes-Cantor matrix."
   ]
  },
  {
   "cell_type": "code",
   "execution_count": null,
   "metadata": {},
   "outputs": [],
   "source": [
    "#Create the Q matrix. These data are binary, so we initialize the Jukes-Cantor matrix with\n",
    "# two states\n",
    "Q_morpho := fnJC(2)"
   ]
  },
  {
   "cell_type": "markdown",
   "metadata": {},
   "source": [
    "As in the molecular data partition, we will allow gamma-distributed rate\n",
    "heterogeneity among sites."
   ]
  },
  {
   "cell_type": "code",
   "execution_count": 2,
   "metadata": {},
   "outputs": [
    {
     "name": "stdout",
     "output_type": "stream",
     "text": [
      "   Missing Variable:\tVariable mvi does not exist\n",
      "   Missing Variable:\tVariable mvi does not exist\n",
      "   Missing Variable:\tVariable mvi does not exist\n"
     ]
    }
   ],
   "source": [
    "#Set up Gamma-distributed rate variation.\n",
    "alpha_morpho ~ dnExponential( 1.0 )\n",
    "rates_morpho := fnDiscretizeGamma( alpha_morpho, alpha_morpho, 4 )\n",
    "\n",
    "#Moves on the parameters to the Gamma distribution.\n",
    "moves[mvi++] = mvScale(alpha_morpho, lambda=0.01, weight=5.0)\n",
    "moves[mvi++] = mvScale(alpha_morpho, lambda=0.1,  weight=3.0)\n",
    "moves[mvi++] = mvScale(alpha_morpho, lambda=1,    weight=1.0)"
   ]
  },
  {
   "cell_type": "markdown",
   "metadata": {},
   "source": [
    "The phylogenetic model also assumes that each branch has a rate of\n",
    "morphological character change. For simplicity, we will assume a strict\n",
    "exponential clock—meaning that every branch has the same rate drawn from\n",
    "an exponential distribution (see Intro-Morphological Clock)."
   ]
  },
  {
   "cell_type": "code",
   "execution_count": null,
   "metadata": {},
   "outputs": [],
   "source": [
    "# We assume a strict morphological clock rate, drawn from an exponential prior #\n",
    "clock_morpho ~ dnExponential(1.0)\n",
    "\n",
    "moves[mvi++] = mvScale(clock_morpho, lambda=0.01, weight=4.0)\n",
    "moves[mvi++] = mvScale(clock_morpho, lambda=0.1,  weight=4.0)\n",
    "moves[mvi++] = mvScale(clock_morpho, lambda=1,    weight=4.0)\n"
   ]
  },
  {
   "cell_type": "markdown",
   "metadata": {},
   "source": [
    "As in our molecular data partition, we now combine our data and our\n",
    "model in the phylogenetic CTMC distribution. There are some unique\n",
    "aspects to doing this for morphology.\n",
    "\n",
    "You will notice that we have an option called `coding`. This option\n",
    "allows us to condition on biases in the way the morphological data were\n",
    "collected (ascertainment bias). The option `coding=variable` specifies\n",
    "that we should correct for coding only variable characters (discussed in\n",
    "the introduction to morphology)."
   ]
  },
  {
   "cell_type": "code",
   "execution_count": null,
   "metadata": {},
   "outputs": [],
   "source": [
    "phyMorpho ~ dnPhyloCTMC(tree=fbd_tree, siteRates=rates_morpho, branchRates=clock_morpho, Q=Q_morpho, type=\"Standard\", coding=\"variable\")\n",
    "phyMorpho.clamp(morpho)"
   ]
  },
  {
   "cell_type": "markdown",
   "metadata": {},
   "source": [
    "You have completed the morphology model file. Save `model_Morph.Rev` in\n",
    "the `scripts` directory.\n",
    "\n",
    "We will now move on to the next model file.\n",
    "\n",
    "\n",
    "## Example: Estimating the Phylogeny and Divergence Times of Fossil and Extant Bears\n",
    "\n",
    "In this exercise, we will combine different types of data from 22\n",
    "species of extant and extinct bears to estimate a posterior distribution\n",
    "of calibrated time trees for this group. We have molecular sequence data\n",
    "for ten species, which represent all of the eight living bears and two\n",
    "extinct species sequenced from sub-fossil specimens (*Arctodus simus,\n",
    "Ursus spelaeus*). The sequence alignment provided is a 1,000 bp fragment\n",
    "of the cytochrome-b mitochondrial gene \\cite{krause2008}. The morphological\n",
    "character matrix unites 18 taxa (both fossil and extant) with 62 binary\n",
    "(states 0 or 1) characters \\cite{abella12}. For the fossil species,\n",
    "occurrence times are obtained from the literature or fossil databases\n",
    "like the [Fossilworks PaleoDB](http://fossilworks.org/) or the [Fossil\n",
    "Calibration Database](http://fossilcalibrations.org/), or from your own\n",
    "paleontological expertise. The 14 fossil species used in this analysis\n",
    "are listed in Table 1 along with the age range for the\n",
    "species and relevant citation. Finally, there are two fossil species\n",
    "(*Parictis montanus, Ursus abstrusus*) for which we do not have\n",
    "morphological character data (or molecular data) and we must use prior\n",
    "information about their phylogenetic relationships to incorporate these\n",
    "taxa in our analysis. This information will be applied using clade\n",
    "constraints.\n",
    "\n",
    "### Data and Files \n",
    "\n",
    "On your own computer or your remote machine, create a directory for this tutorial.\n",
    "\n",
    "In this directory, create another directory called `data`, and download the data\n",
    "files which you can find at the top of this page.\n",
    "\n",
    "In the `data` folder, you will find the following files:\n",
    "\n",
    "-   `bears_taxa.tsv`: a tab-separated table listing every bear species\n",
    "    (both fossil and extant) and their occurrence age ranges. For extant\n",
    "    taxa, the minimum age is 0.0\n",
    "    (*i.e.* the present).\n",
    "\n",
    "-   `bears_cytb.nex`: an alignment in NEXUS format of 1,000 bp of\n",
    "    cytochrome b sequences for 10 bear species. This alignment includes\n",
    "    8 living bears and 2 extinct sub-fossil bears.\n",
    "\n",
    "-   `bears_morphology.nex`: a matrix of 62 discrete, binary (coded `0`\n",
    "    or `1`) morphological characters for 18 species of fossil and\n",
    "    extant bears.\n",
    "\n",
    "**Table 1:** Age range data for fossil and extant bear species.\n",
    "\n",
    " | **Fossil Species**         | **Age**        | **Reference**                       |\n",
    " |--------------------------- |:--------------:|------------------------------------:|\n",
    " | *Ailuropoda melanoleuca*\t  | 0.0-1.24       | \\cite{abella12}                 |\n",
    " | *Helarctos malayanus*      | 0.0-1.78       | \\cite{abella12}                 |\n",
    " | *Melursus ursinus*         | 0.0-1.8        | \\cite{abella12}                 |\n",
    " | *Tremarctos ornatus*       | 0.0-0.0        | \\cite{abella12}                 |\n",
    " | *Ursus americanus*         | 0.0-1.84       | \\cite{abella12}                 |\n",
    " | *Ursus arctos*             | 0.0-1.71       | \\cite{abella12}                 |\n",
    " | *Ursus maritimus*          | 0.0-0.65       | \\cite{abella12}                 |\n",
    " | *Ursus thibetanus*         | 0.0-1.18       | \\cite{abella12}                 |\n",
    " | *Agriarctos spp.*          | 4.9–7.75       | \\cite{abella2011, abella12}      |\n",
    " | *Ailurarctos lufengensis*  | 5.8–8.2        | \\cite{jin2007 abella12}         |\n",
    " | *Arctodus simus*           | 0.012–2.588    | \\cite{churcher1993 krause2008}  |\n",
    " | *Ballusia elmensis*        | 13.7–16        | \\cite{ginsburg1998 abella12}    |\n",
    " | *Indarctos vireti*         | 7.75–8.7       | \\cite{montoya2001 abella12}     |\n",
    " | *Indarctos arctoides*      | 8.7–9.7        | \\cite{geraads2005 abella12}     |\n",
    " | *Indarctos punjabiensis*   | 4.9–9.7        | \\cite{baryshnikov2002 abella12} |\n",
    " | *Kretzoiarctos beatrix*    | 11.2–11.8      | \\cite{abella2011 abella12}      |\n",
    " | *Parictis montanus*        | 33.9–37.2      | \\cite{clark1972 krause2008}     |\n",
    " | *Ursavus primaevus*        | 13.65–15.97    | \\cite{andrews1977 abella12}     |\n",
    " | *Ursavus brevihinus*       | 15.97–16.9     | \\cite{heizmann1980 abella12}    |\n",
    " | *Ursus abstrusus*          | 1.8–5.3        | \\cite{bjork1970 krause2008}     |\n",
    " | *Ursus spelaeus*           | 0.027–0.25     | \\cite{loreille2001 krause2008}  |\n",
    " | *Zaragocyon daamsi*        | 20–22.8        | \\cite{ginsburg1995 abella12}    |\n",
    "\n",
    "\n",
    "### Getting Started\n",
    "\n",
    "Create a new directory called `scripts`. \n",
    "\n",
    "When you execute RevBayes in this exercise, you will do so within the\n",
    "main directory you created. \n",
    "Thus, if you are using a Unix-based operating system, we recommend that\n",
    "you add the RevBayes binary to your path.\n",
    "\n",
    "### Creating Rev Files\n",
    "\n",
    "- mcmc_CEFBDRP_Ranges.Rev\n",
    "- model_FBDRP.Rev\n",
    "- model_UExp.Rev\n",
    "- model_GTRG.Rev\n",
    "- model_Morph.Rev\n",
    "\n",
    "For complex models and analyses, it is best to create Rev script files\n",
    "that will contain all of the model parameters, moves, and functions. In\n",
    "this exercise, you will work primarily in your text editor and\n",
    "create a set of modular files that will be easily managed and\n",
    "interchanged. You will write the following files from scratch and save\n",
    "them in the `scripts` directory:\n",
    "\n",
    "-    `mcmc_CEFBDRP_Ranges.Rev`: the master Rev file that loads the data, the\n",
    "    separate model files and specifies the monitors and MCMC sampler.\n",
    "\n",
    "-   `model_FBDRP.Rev`: specifies the model parameters and moves\n",
    "    required for the fossilized birth-death range process prior on the tree topology,\n",
    "    divergence times, fossil occurrence ranges, and\n",
    "    diversification dynamics.\n",
    "\n",
    "-   `model_UExp.Rev`: specifies the components of the\n",
    "    uncorrelated exponential model of lineage-specific substitution\n",
    "    rate variation.\n",
    "\n",
    "-   `model_GTRG.Rev`: specifies the parameters and moves for the\n",
    "    general time-reversible model of sequence evolution with\n",
    "    gamma-distributed rates across sites (GTR+$\\Gamma$).\n",
    "\n",
    "-   `model_Morph.Rev`: specifies the model describing discrete\n",
    "    morphological character change (binary characters) under a strict\n",
    "    morphological clock.\n",
    "\n",
    "All of the files that you will create are also provided in the\n",
    "RevBayes tutorial at the top of the page to download. \n",
    "Please refer to these files to\n",
    "verify or troubleshoot your own scripts.\n",
    "\n",
    "### Start the Master Rev File and Import Data \n",
    "\n",
    "In this section you will begin the master file that you will load into\n",
    "RevBayes when you’ve completed all of the components of the analysis.\n",
    "\n",
    "> Open your text editor and create the master Rev\n",
    "> file called `mcmc_CEFBDRP_Ranges.Rev` in the `scripts` directory.\n",
    ">\n",
    "> Enter the Rev code provided in this section in the new model file.\n",
    "\n",
    "In this file you will write the Rev commands for\n",
    "loading in the taxon list and managing the data matrices. Then, starting\n",
    "in section Exercise-FBD-Model, you will move on to writing\n",
    "module files for each of the model components. Once the model files are\n",
    "complete, you will return to editing `mcmc_CEFBDRP_Ranges.Rev` and complete the\n",
    "Rev script with the instructions given in section, \n",
    "you will move on to writing the Exercise-CompleteMCMC.\n",
    "\n",
    "### Load Taxon List\n",
    "\n",
    "Begin the Rev script by loading in the list of taxon names from the\n",
    "`bears_taxa.tsv` file using the `readTaxonData` function."
   ]
  },
  {
   "cell_type": "code",
   "execution_count": 3,
   "metadata": {},
   "outputs": [],
   "source": [
    "# Create the full list of taxa (including all fossils and extant species #\n",
    "taxa <- readTaxonData(\"data/bears_taxa.tsv\")\n"
   ]
  },
  {
   "cell_type": "markdown",
   "metadata": {},
   "source": [
    "This function reads a tab-delimited file and creates a variable called\n",
    "`taxa` that is a list of all of the taxon names relevant to this\n",
    "analysis. This list includes all of the fossil and extant bear species\n",
    "names in the first columns and minimum/maximum ages in the second/third columns.\n",
    "\n",
    "### Load Data Matrices\n",
    "\n",
    "RevBayes uses the function `readDiscreteCharacterData` to load a\n",
    "data matrix to the workspace from a formatted file. This function can be\n",
    "used for both molecular sequences and discrete morphological characters.\n",
    "\n",
    "Load the cytochrome-b sequences from file and assign the data matrix to\n",
    "a variable called `cytb`."
   ]
  },
  {
   "cell_type": "code",
   "execution_count": 4,
   "metadata": {},
   "outputs": [
    {
     "name": "stdout",
     "output_type": "stream",
     "text": [
      "   Successfully read one character matrix from file 'data/bears_cytb.nex'\n"
     ]
    }
   ],
   "source": [
    "cytb <- readDiscreteCharacterData(\"data/bears_cytb.nex\")\n"
   ]
  },
  {
   "cell_type": "markdown",
   "metadata": {},
   "source": [
    "Next, import the morphological character matrix and assign it to the\n",
    "variable `morpho`."
   ]
  },
  {
   "cell_type": "code",
   "execution_count": 5,
   "metadata": {},
   "outputs": [
    {
     "name": "stdout",
     "output_type": "stream",
     "text": [
      "   Successfully read one character matrix from file 'data/bears_morphology.nex'\n"
     ]
    }
   ],
   "source": [
    "morpho <- readDiscreteCharacterData(\"data/bears_morphology.nex\")\n"
   ]
  },
  {
   "cell_type": "markdown",
   "metadata": {},
   "source": [
    "### Add Missing Taxa\n",
    "\n",
    "In the descriptions of the files in section\n",
    "Exercise-DataFiles, we mentioned that the two data matrices\n",
    "have different numbers of taxa. Thus, we must add any taxa that are not\n",
    "found in the molecular (`cytb`) partition\n",
    "(*i.e.* are only found in the fossil data) to\n",
    "that data matrix as missing data (with `?` in place of all characters),\n",
    "and do the same with the morphological data partition (`morpho`). In\n",
    "order for all the taxa to appear on the same tree, they all need to be\n",
    "part of the same dataset, as opposed to present in separate datasets.\n",
    "This ensures that there is a unified taxon set that contains all of our\n",
    "tips."
   ]
  },
  {
   "cell_type": "code",
   "execution_count": 7,
   "metadata": {},
   "outputs": [],
   "source": [
    "cytb.addMissingTaxa( taxa )\n",
    "morpho.addMissingTaxa( taxa )\n"
   ]
  },
  {
   "cell_type": "markdown",
   "metadata": {},
   "source": [
    "### Create Helper Variables\n",
    "\n",
    "Before we begin writing the Rev scripts for each of the model\n",
    "components, we need to instantiate a couple \"helper variables\" that will\n",
    "be used by downstream parts of our model specification files. These\n",
    "variables will be used in more than one of the module files so it’s best\n",
    "to initialize them in the master file.\n",
    "\n",
    "Create a new constant node called `n_taxa` that is equal to the number\n",
    "of species in our analysis (22)."
   ]
  },
  {
   "cell_type": "code",
   "execution_count": 9,
   "metadata": {},
   "outputs": [],
   "source": [
    "n_taxa <- taxa.size()"
   ]
  },
  {
   "cell_type": "markdown",
   "metadata": {},
   "source": [
    "Next, create a workspace variable called `mvi`. This variable is an\n",
    "iterator that will build a vector containing all of the MCMC moves used\n",
    "to propose new states for every stochastic node in the model graph. Each\n",
    "time a new move is added to the vector, `mvi` will be incremented by a\n",
    "value of 1."
   ]
  },
  {
   "cell_type": "code",
   "execution_count": null,
   "metadata": {},
   "outputs": [],
   "source": [
    "mvi = 1\n"
   ]
  },
  {
   "cell_type": "markdown",
   "metadata": {},
   "source": [
    "One important distinction here is that `mvi` is part of the RevBayes\n",
    "workspace and not the hierarchical model. Thus, we use the workspace\n",
    "assignment operator `=` instead of the constant node assignment `<-`.\n",
    "\n",
    "> Save your current working version of `mcmc_CEFBDRP_Ranges.Rev` in the `scripts` directory.\n",
    "\n",
    "We will now move on to the next Rev file and will complete\n",
    "`mcmc_CEFBDRP_Ranges.Rev` in section Exercise-CompleteMCMC.\n",
    "\n",
    "### The Fossilized Birth-Death Process\n",
    "\n",
    "In this section we will define the models described in section Intro-FBD above. If necessary, please review the graphical models depicted for the fossilized birth-death process (Fig. 3).\n",
    "\n",
    "> Open your text editor and create the fossilized birth-death model file\n",
    "> called `model_FBDRP.Rev` in the `scripts` directory.\n",
    "\n",
    "### Speciation and Extinction Rates\n",
    "\n",
    "Two key parameters of the FBD process are the speciation rate (the rate\n",
    "at which lineages are added to the tree, denoted by $\\lambda$ in\n",
    "(Fig. 3) and the extinction rate (the rate at which\n",
    "lineages are removed from the tree, $\\mu$ in Fig. 3).\n",
    "We’ll place exponential priors on both of these values. Each parameter\n",
    "is assumed to be drawn independently from a different exponential\n",
    "distribution with rates $\\delta_{\\lambda}$ and $\\delta_{\\mu}$\n",
    "respectively (see Fig. 3). Here, we will assume that\n",
    "$\\delta_{\\lambda} = \\delta_{\\mu} = 10$. Note that an exponential\n",
    "distribution with $\\delta = 10$ has an expected value (mean) of $1/10$.\n",
    "\n",
    "Create the exponentially distributed stochastic nodes for the\n",
    "`speciation_rate` and `extinction_rate` using the `~` operator."
   ]
  },
  {
   "cell_type": "code",
   "execution_count": 11,
   "metadata": {},
   "outputs": [],
   "source": [
    "# Define exponential priors on the birth rate and death rate #\n",
    "speciation_rate ~ dnExponential(10)\n",
    "extinction_rate ~ dnExponential(10)\n",
    "\n",
    "# Specify a scale move on the speciation_rate parameter #\n",
    "# This move will be applied with 3 different tuning values (lambda) to help improve mixing # \n",
    "moves[mvi++] = mvScale(speciation_rate, lambda=0.01, weight=1)\n",
    "moves[mvi++] = mvScale(speciation_rate, lambda=0.1,  weight=1)\n",
    "moves[mvi++] = mvScale(speciation_rate, lambda=1.0,  weight=1)\n",
    "\n",
    "# Specify a sliding-window move on the extinction_rate parameter #\n",
    "# This move will be applied with 3 different window widths (delta) to help improve mixing # \n",
    "moves[mvi++] = mvScale(extinction_rate, lambda=0.01, weight=1)\n",
    "moves[mvi++] = mvScale(extinction_rate, lambda=0.1,  weight=1)\n",
    "moves[mvi++] = mvScale(extinction_rate, lambda=1,    weight=1)"
   ]
  },
  {
   "cell_type": "markdown",
   "metadata": {},
   "source": [
    "For every stochastic node we declare, we must also specify proposal\n",
    "algorithms (called *moves*) to sample the value of the parameter in\n",
    "proportion to its posterior probability. If a move is not specified for\n",
    "a stochastic node, then it will not be estimated, but fixed to its\n",
    "initial value.\n",
    "\n",
    "The rate parameters for extinction and speciation are both positive,\n",
    "real numbers (*i.e.* non-negative floating\n",
    "point variables). For both of these nodes, we will use a scaling move\n",
    "(`mvScale`), which proposes multiplicative changes to a parameter.\n",
    "Many moves also require us to set a *tuning value*, called `lambda` for\n",
    "`mvScale`, which determine the size of the proposed change. Here, we\n",
    "will use three scale moves for each parameter with different values of\n",
    "lambda. By using multiple moves for a single parameter, we will improve\n",
    "the mixing of the Markov chain.\n",
    "\n",
    "You will also notice that each move has a specified `weight`. This\n",
    "option allows you to indicate how many times you would like a given move\n",
    "to be performed at each MCMC cycle. The way that we will run our MCMC\n",
    "for this tutorial will be to execute a *schedule* of moves at each step\n",
    "in our chain instead of just one move per step, as is done in\n",
    "MrBayes \\cite{Ronquist2003} or BEAST\n",
    "\\cite{Drummond2012 Bouckaert2014}. Here, if we were to run our MCMC with\n",
    "our current vector of 6 moves, then our move schedule would perform 6\n",
    "moves at each cycle. Within a cycle, an individual move is chosen from\n",
    "the move list in proportion to its weight. Therefore, with all six moves\n",
    "assigned `weight=1`, each has an equal probability of being executed and\n",
    "will be performed on average one time per MCMC cycle. For more\n",
    "information on moves and how they are performed in RevBayes, please\n",
    "refer to the Archery and CTMC tutorials.\n",
    "\n",
    "In addition to the speciation ($\\lambda$) and extinction ($\\mu$) rates,\n",
    "we may also be interested in inferring diversification ($\\lambda - \\mu$)\n",
    "and turnover ($\\mu/\\lambda$). Since these parameters can be expressed as\n",
    "a deterministic transformation of the speciation and extinction rates,\n",
    "we can monitor (that is, track the values of these parameters, and print\n",
    "them to a file) their values by creating two deterministic nodes using\n",
    "the `:=` operator."
   ]
  },
  {
   "cell_type": "code",
   "execution_count": 12,
   "metadata": {},
   "outputs": [],
   "source": [
    "diversification := speciation_rate - extinction_rate\n",
    "turnover := extinction_rate/speciation_rate"
   ]
  },
  {
   "cell_type": "markdown",
   "metadata": {},
   "source": [
    "## Probability of Sampling Extant Taxa\n",
    "\n",
    "All extant bears are represented in this dataset. Therefore, we will fix\n",
    "the probability of sampling an extant lineage ($\\rho$ in\n",
    "Fig. 3) to 1. The parameter `rho` will be specified as a\n",
    "constant node using the `<-` operator."
   ]
  },
  {
   "cell_type": "code",
   "execution_count": 13,
   "metadata": {},
   "outputs": [],
   "source": [
    "rho <- 1.0\n"
   ]
  },
  {
   "cell_type": "markdown",
   "metadata": {},
   "source": [
    "Because $\\rho$ is a constant node, we do not have to assign a move to\n",
    "this parameter.\n",
    "\n",
    "### The Fossil Sampling Rate \n",
    "\n",
    "Since our data set includes serially sampled lineages, we must also\n",
    "account for the rate of sampling back in time. This is the fossil\n",
    "sampling (or recovery) rate ($\\psi$ in Fig. 3), which we\n",
    "will instantiate as a stochastic node (named `psi`). As with the\n",
    "speciation and extinction rates(see Exercise-FBD-SpeciationExtinction), we will use an\n",
    "exponential prior on this parameter and use scale moves to sample values\n",
    "from the posterior distribution."
   ]
  },
  {
   "cell_type": "code",
   "execution_count": 14,
   "metadata": {},
   "outputs": [],
   "source": [
    "# Assume an exponential prior on the rate of sampling fossils (psi) #\n",
    "psi ~ dnExponential(10) \n",
    "\n",
    "# Specify a scale move on the psi parameter #\n",
    "# This move will be applied with 3 different tuning values (lambda) to help improve mixing # \n",
    "moves[mvi++] = mvScale(psi, lambda=0.01, weight=1)\n",
    "moves[mvi++] = mvScale(psi, lambda=0.1,  weight=1)\n",
    "moves[mvi++] = mvScale(psi, lambda=1,    weight=1)"
   ]
  },
  {
   "cell_type": "markdown",
   "metadata": {},
   "source": [
    "### The Origin Time\n",
    "\n",
    "We will condition the FBD process on the origin time ($\\phi$ in\n",
    "Fig. 3) of bears, and we will specify a uniform\n",
    "distribution on the origin age. For this parameter, we will use a\n",
    "sliding window move (`mvSlide`). A sliding window samples a parameter\n",
    "uniformly within an interval (defined by the half-width `delta`).\n",
    "Sliding window moves can be tricky for small values, as the window may\n",
    "overlap zero. However, for parameters such as the origin age, there is\n",
    "little risk of this being an issue."
   ]
  },
  {
   "cell_type": "code",
   "execution_count": 15,
   "metadata": {},
   "outputs": [],
   "source": [
    "origin_time ~ dnUnif(37.0, 55.0)\n",
    "\n",
    "# Specify a sliding-window move on the origin_time parameter #\n",
    "# This move will be applied with 3 different window widths (delta) to help improve mixing # \n",
    "moves[mvi++] = mvSlide(origin_time, delta=0.01, weight=5.0)\n",
    "moves[mvi++] = mvSlide(origin_time, delta=0.1,  weight=5.0)\n",
    "moves[mvi++] = mvSlide(origin_time, delta=1,    weight=5.0)\n"
   ]
  },
  {
   "cell_type": "markdown",
   "metadata": {},
   "source": [
    "Note that we specified a higher move `weight` for each of the proposals\n",
    "operating on `origin_time` than we did for the three previous\n",
    "stochastic nodes. This means that our move schedule will propose five\n",
    "times as many updates to `origin_time` than it will to\n",
    "`speciation_rate`, `extinction_rate`, or `psi`.\n",
    "\n",
    "## The FBD Distribution Object \n",
    "\n",
    "All the parameters of the FBD process have now been specified. The next\n",
    "step is to use these parameters to define the FBD tree prior\n",
    "distribution, which we will call `fbd_dist`. Note that, because we are\n",
    "using stratigraphic range data to represent our sampled species,\n",
    "we use the `FBDRP` distribution function\n",
    "(as opposed to the specimen-level distribution function `FBDP`; see Intro-Taxonomy)"
   ]
  },
  {
   "cell_type": "code",
   "execution_count": 16,
   "metadata": {},
   "outputs": [],
   "source": [
    "fbd_dist = dnFBDRP(origin=origin_time, lambda=speciation_rate, mu=extinction_rate, psi=psi, rho=rho, taxa=taxa)\n"
   ]
  },
  {
   "cell_type": "markdown",
   "metadata": {},
   "source": [
    "### Clade Constraints \n",
    "\n",
    "Note that we created the distribution as a workspace variable using the\n",
    "workspace assignment operator `=`. This is because we still need to\n",
    "include a topology constraint in our final specification of the tree\n",
    "prior. Specifically, we do not have any morphological or molecular data\n",
    "for the fossil species *Ursus abstrusus*. Therefore, in order to use the\n",
    "age of this fossil as an observation, we need to specify to which clade\n",
    "it belongs. In this case, *Ursus abstrusus* belongs to the subfamily\n",
    "Ursinae, so we define a clade for the total group Ursinae including\n",
    "*Ursus abstrusus*."
   ]
  },
  {
   "cell_type": "code",
   "execution_count": 17,
   "metadata": {},
   "outputs": [],
   "source": [
    "# The will be a random variable of a constrained topology distribution that is governed by the FBD #\n",
    "# this distribution will generate FBD trees that match the monophyly constraints defined above #\n",
    "clade_ursinae = clade(\"Melursus_ursinus\", \"Ursus_arctos\", \"Ursus_maritimus\", \n",
    "                      \"Helarctos_malayanus\", \"Ursus_americanus\", \"Ursus_thibetanus\", \n",
    "                      \"Ursus_abstrusus\", \"Ursus_spelaeus\")"
   ]
  },
  {
   "cell_type": "markdown",
   "metadata": {},
   "source": [
    "Then we can specify the final constrained tree prior distribution by\n",
    "creating a vector of constraints, and providing it along with the\n",
    "workspace FBD distribution to the constrained topology distribution.\n",
    "Here we use the stochastic assignment operator `~` to create a\n",
    "stochastic node for our constrained FBD tree variable (called\n",
    "`fbd_tree`)."
   ]
  },
  {
   "cell_type": "code",
   "execution_count": 18,
   "metadata": {},
   "outputs": [],
   "source": [
    "constraints = v(clade_ursinae)\n",
    "fbd_tree ~ dnConstrainedTopology(fbd_dist, constraints=constraints)\n"
   ]
  },
  {
   "cell_type": "markdown",
   "metadata": {},
   "source": [
    "It is important to recognize that we do not know if *Ursus abstrusus* is\n",
    "a *crown* or *stem* Ursinae. Because of this, we defined this clade\n",
    "constraint so that it constrained the *total group* Ursinae and this\n",
    "uncertainty is taken into account. As a result, our MCMC will\n",
    "marginalize over both stem and crown positions of *U. abstrusus* and\n",
    "sample the phylogeny in proportion to its posterior probability,\n",
    "conditional on our model and data.\n",
    "\n",
    "Additionally, we do not have morphological data for the fossil species\n",
    "*Parictis montanus*. However, we will not create a clade constraint for\n",
    "this taxon because it is a very old, stem-fossil bear. Thus, the MCMC\n",
    "may propose to place this taxon anywhere in the tree (except within the\n",
    "clade constraint we made above). This allows us to account for the\n",
    "maximum amount of uncertainty in the placement of *P. montanus*.\n",
    "\n",
    "### Moves on the Tree Topology and Node Ages\n",
    "\n",
    "Next, in order to sample from the posterior distribution of trees, we\n",
    "need to specify moves that propose changes to the topology (`mvFNPR`)\n",
    "and node times (`mvNodeTimeSlideUniform`). Included with these moves is\n",
    "a proposal that will collapse or expand a fossil branch\n",
    "(`mvCollapseExpandFossilBranch`). This will change a fossil that is a\n",
    "sampled ancestor (see Fig. 2A and\n",
    "Sect. Intro-FBD) so that it is on its own branch and vice\n",
    "versa. In addition, when conditioning on the origin time, we also need\n",
    "to explicitly sample the root age (`mvRootTimeSlideUniform`)."
   ]
  },
  {
   "cell_type": "code",
   "execution_count": 19,
   "metadata": {},
   "outputs": [],
   "source": [
    "# Specify moves on the tree and node times #\n",
    "# These moves update the tree topology \n",
    "moves[mvi++] = mvFNPR(fbd_tree, weight=15.0)\n",
    "moves[mvi++] = mvCollapseExpandFossilBranch(fbd_tree, origin_time, weight=6.0)\n",
    "\n",
    "# These moves update the node ages #\n",
    "# Because we are conditioning on the origin time, we must also sample the root node age #\n",
    "moves[mvi++] = mvNodeTimeSlideUniform(fbd_tree, weight=40.0)\n",
    "moves[mvi++] = mvRootTimeSlideUniform(fbd_tree, origin_time, weight=5.0)\n",
    "\n",
    "num_samp_anc := fbd_tree.numSampledAncestors();\n"
   ]
  },
  {
   "cell_type": "markdown",
   "metadata": {},
   "source": [
    "### Incorporating Specimen-Level Fossil Age Uncertainty}\n",
    "If we are using the specimen-level `FBDP` distribution (see Intro-Taxonomy),\n",
    "in order to account for uncertainty in the ages of fossil specimens,\n",
    "we can incorporate intervals on the fossil ages.\n",
    "These intervals can represent, for example, stratigraphic ranges or measurement error.\n",
    "We do this by assuming each fossil can occur with\n",
    "uniform probability anywhere within its observed interval. This is\n",
    "somewhat different from the typical approach to node calibration. Here,\n",
    "instead of treating the calibration density as an additional prior\n",
    "distribution on the tree, we treat it as the *likelihood* of our fossil\n",
    "data given the tree parameter. Specifically, we assume the likelihood of\n",
    "a particular fossil observation $\\mathcal{F}_i$ is equal to one if the\n",
    "fossil’s inferred age on the tree $t_i$ falls within its observed time\n",
    "interval $(a_i,b_i)$, and zero otherwise:\n",
    "\n",
    "> \n",
    "$$f[\\mathcal{F}_i \\mid a_i, b_i, t_i] = \\begin{cases}\n",
    "1 & \\text{if } a_i < t_i < b_i\\\\\n",
    "0 & \\text{otherwise}\n",
    "\\end{cases}$$\n",
    "\n",
    "In other words, we assume the likelihood is equal to one\n",
    "if the inferred age is consistent with the observed data. We can\n",
    "represent this likelihood in RevBayes using a distribution that is\n",
    "proportional to the likelihood,\n",
    "*i.e.* non-zero when the likelihood is equal\n",
    "to one. This model component represents\n",
    "the observed in the modular graphical model shown in {% ref fig_module_gm}.\n",
    "\n",
    "<img src=\"figures/tikz/tipsampling_gm.png\" width=\"400\" /> \n",
    "**Fig. 6:** A graphical model of the\n",
    "fossil age likelihood model used in this tutorial. The likelihood of\n",
    "fossil observation $\\mathcal{F}_i$ is uniform and non-zero when the\n",
    "inferred fossil age $t_i$ falls within the observed time interval\n",
    "$(a_i,b_i)$.\n",
    "\n",
    "#### Aside: Sampling Fossil Specimen Ages\n",
    "When using the specimen-level FBD distribution `FBDP`, \n",
    "we can account for uncertainty in the age estimates of our\n",
    "fossils specimens using the observed minimum and maximum stratigraphic ages.\n",
    "First, we loop over the the list of taxa. For each fossil observation, we create a\n",
    "uniform random variable representing the likelihood. Remember, we can\n",
    "represent the fossil likelihood using any uniform distribution that is\n",
    "non-zero when the likelihood is equal to one.\n",
    "\n",
    "For example, if $t_i$ is the inferred fossil age and $(a_i,b_i)$ is the\n",
    "observed stratigraphic interval, we know the likelihood is equal to one\n",
    "when $a_i < t_i < b_i$, or equivalently $t_i - b_i < 0 < t_i - a_i$. So\n",
    "let’s represent the likelihood using a uniform random variable uniformly\n",
    "distributed in $(t_i - b_i, t_i - a_i)$ and clamped at zero."
   ]
  },
  {
   "cell_type": "code",
   "execution_count": 20,
   "metadata": {},
   "outputs": [],
   "source": [
    "fossils = fbd_tree.getFossils()\n",
    "for(i in 1:fossils.size())\n",
    "{\n",
    "    t[i] := tmrca(fbd_tree, clade(fossils[i]))\n",
    "\n",
    "    a_i = fossils[i].getMinAge()\n",
    "    b_i = fossils[i].getMaxAge()\n",
    "\n",
    "    F[i] ~ dnUniform(t[i] - b_i, t[i] - a_i)\n",
    "    F[i].clamp( 0 )\n",
    "}\n"
   ]
  },
  {
   "cell_type": "markdown",
   "metadata": {},
   "source": [
    "Finally, we add a move that samples the ages of the fossil nodes on the\n",
    "tree."
   ]
  },
  {
   "cell_type": "code",
   "execution_count": null,
   "metadata": {},
   "outputs": [],
   "source": [
    "moves[mvi++] = mvFossilTimeSlideUniform(fbd_tree, origin_time, weight=5.0)\n"
   ]
  },
  {
   "cell_type": "markdown",
   "metadata": {},
   "source": [
    "### Monitoring Parameters of Interest using Deterministic Nodes \n",
    "\n",
    "There are additional parameters that may be of particular interest to us\n",
    "that are not directly inferred as part of this graphical model. As with\n",
    "the diversification and turnover nodes specified in\n",
    "Exercise-FBD-SpeciationExtinction, we can create\n",
    "deterministic nodes to sample the posterior distributions of these\n",
    "parameters. Create a deterministic node called `num_samp_anc` that\n",
    "will compute the number of sampled ancestors in our `fbd_tree`."
   ]
  },
  {
   "cell_type": "code",
   "execution_count": 21,
   "metadata": {},
   "outputs": [],
   "source": [
    "num_samp_anc := fbd_tree.numSampledAncestors();\n"
   ]
  },
  {
   "cell_type": "markdown",
   "metadata": {},
   "source": [
    "We are also interested in the age of the most-recent-common ancestor\n",
    "(MRCA) of all living bears. To monitor the age of this node in our MCMC\n",
    "sample, we must use the `clade` function to identify the node.\n",
    "Importantly, since we did not include this clade in our constraints that\n",
    "defined `fbd_tree`, this clade will not be constrained to be\n",
    "monophyletic. Once this clade is defined we can instantiate a\n",
    "deterministic node called `age_extant` with the `tmrca` function that\n",
    "will record the age of the MRCA of all living bears."
   ]
  },
  {
   "cell_type": "code",
   "execution_count": 22,
   "metadata": {},
   "outputs": [],
   "source": [
    "clade_extant = clade(\"Ailuropoda_melanoleuca\",\"Tremarctos_ornatus\",\"Melursus_ursinus\",\n",
    "                    \"Ursus_arctos\",\"Ursus_maritimus\",\"Helarctos_malayanus\",\n",
    "                    \"Ursus_americanus\",\"Ursus_thibetanus\")\n",
    "age_extant := tmrca(fbd_tree, clade_extant)\n"
   ]
  },
  {
   "cell_type": "markdown",
   "metadata": {},
   "source": [
    "Finally, we will monitor the tree after removing taxa for which we did\n",
    "not have any molecular or morphological data. The phylogenetic placement\n",
    "of these taxa is based only on their occurrence times and any clade\n",
    "constraints we applied (see Exercise-FBD-Constraints).\n",
    "Because no data are available to resolve their relationships to other\n",
    "lineages, we will treat their placement as [*nuisance\n",
    "parameters*](https://en.wikipedia.org/wiki/Nuisance_parameter) and\n",
    "remove them from the output.\n",
    "\n",
    "We will remove two fossil taxa, *Parictis montanus* and *Ursus\n",
    "abstrusus*, from every tree in the trace file before summarizing the\n",
    "samples. Use the `fnPruneTree` function to create a deterministic tree\n",
    "variable `pruned_tree` from which these taxa have been pruned. We will\n",
    "monitor this tree instead of `fbd_tree`."
   ]
  },
  {
   "cell_type": "code",
   "execution_count": 23,
   "metadata": {},
   "outputs": [],
   "source": [
    "pruned_tree := fnPruneTree(fbd_tree, prune=v(taxa[17],taxa[20]))\n"
   ]
  },
  {
   "cell_type": "markdown",
   "metadata": {},
   "source": [
    ">You have completed the FBD model file. Save `model_FBDRP.Rev` in the `scripts` directory.\n",
    "\n",
    "## The Uncorrelated Exponential Relaxed Clock Model\n",
    "\n",
    "We will now define the molecular relaxed clock model.\n",
    "\n",
    "> Open your text editor and create the lineage-specific branch-rate model\n",
    "> file called `model_UExp.Rev` in the `scripts` directory.\n",
    ">\n",
    ">Enter the Rev code provided in this section in the new model file.\n",
    "\n",
    "For our hierarchical, uncorrelated exponential relaxed clock model\n",
    "(described in section Intro-GTR-UExp and shown in\n",
    "Fig. 7), we first define the mean branch rate as an\n",
    "exponential random variable. Then, we specify scale proposal moves on\n",
    "the mean rate parameter."
   ]
  },
  {
   "cell_type": "code",
   "execution_count": 24,
   "metadata": {},
   "outputs": [],
   "source": [
    "branch_rates_mean ~ dnExponential(10.0)\n",
    "\n",
    "# The mean will be operated on by scale moves\n",
    "moves[mvi++] = mvScale(branch_rates_mean, lambda=0.01, weight=1.0)\n",
    "moves[mvi++] = mvScale(branch_rates_mean, lambda=0.1,  weight=1.0)\n",
    "moves[mvi++] = mvScale(branch_rates_mean, lambda=1.0,  weight=1.0)\n"
   ]
  },
  {
   "cell_type": "markdown",
   "metadata": {},
   "source": [
    "Before creating a rate parameter for each branch, we need to get the\n",
    "number of branches in the tree. For rooted trees with $n$ taxa, the\n",
    "number of branches is $2n-2$."
   ]
  },
  {
   "cell_type": "code",
   "execution_count": 25,
   "metadata": {},
   "outputs": [],
   "source": [
    "n_branches <- 2 * n_taxa - 2\n"
   ]
  },
  {
   "cell_type": "markdown",
   "metadata": {},
   "source": [
    "Then, use a for loop to define a rate for each branch. The branch rates\n",
    "are independent and identically exponentially distributed with mean\n",
    "equal to the mean branch rate parameter we specified above. For each\n",
    "rate parameter we also create scale proposal moves."
   ]
  },
  {
   "cell_type": "code",
   "execution_count": 26,
   "metadata": {},
   "outputs": [],
   "source": [
    "for(i in 1:n_branches){\n",
    "    branch_rates[i] ~ dnExp(1/branch_rates_mean)\n",
    "    moves[mvi++] = mvScale(branch_rates[i], lambda=1.0,  weight=1.0)\n",
    "    moves[mvi++] = mvScale(branch_rates[i], lambda=0.1,  weight=1.0)\n",
    "    moves[mvi++] = mvScale(branch_rates[i], lambda=0.01, weight=1.0)\n",
    "}\n"
   ]
  },
  {
   "cell_type": "markdown",
   "metadata": {},
   "source": [
    "Lastly, we use a vector scale move to propose changes to all branch\n",
    "rates simultaneously. This way we can sample the total branch rate\n",
    "independently of each individual rate, which can improve mixing."
   ]
  },
  {
   "cell_type": "code",
   "execution_count": 27,
   "metadata": {},
   "outputs": [],
   "source": [
    "moves[mvi++] = mvVectorScale(branch_rates, lambda=0.01, weight=4.0) \n",
    "moves[mvi++] = mvVectorScale(branch_rates, lambda=0.1,  weight=4.0) \n",
    "moves[mvi++] = mvVectorScale(branch_rates, lambda=1.0,  weight=4.0)\n"
   ]
  },
  {
   "cell_type": "markdown",
   "metadata": {},
   "source": [
    "You have completed the molecular relaxed clock model file. Save `model_UExp.Rev` in\n",
    "the `scripts` directory.\n",
    "\n",
    "### Complete Master Rev File \n",
    "\n",
    "> Return to the master Rev file you created in section\n",
    "> {% ref Exercise-StartMasterRev} called `{{ mcmc_script }}` in the `scripts` directory.\n",
    "\n",
    "### Source Model Scripts \n",
    "\n",
    "RevBayes uses the `source` function to load commands from Rev\n",
    "files into the workspace. Use this function to load in the model scripts\n",
    "we have written in the text editor and saved in the `scripts` directory."
   ]
  },
  {
   "cell_type": "code",
   "execution_count": 28,
   "metadata": {},
   "outputs": [
    {
     "name": "stdout",
     "output_type": "stream",
     "text": [
      "   Processing file \"scripts/model_FBDRP.Rev\"\n",
      "   Processing of file \"scripts/model_FBDRP.Rev\" completed\n",
      "   Processing file \"scripts/model_UExp.Rev\"\n",
      "   Processing of file \"scripts/model_UExp.Rev\" completed\n",
      "   Processing file \"scripts/model_GTRG.Rev\"\n",
      "   Processing of file \"scripts/model_GTRG.Rev\" completed\n",
      "   Processing file \"scripts/model_Morph.Rev\"\n",
      "   Processing of file \"scripts/model_Morph.Rev\" completed\n"
     ]
    }
   ],
   "source": [
    "source(\"scripts/model_FBDRP.Rev\") # FBD tree prior\n",
    "\n",
    "source(\"scripts/model_UExp.Rev\") # UExp relaxed clock\n",
    "\n",
    "source(\"scripts/model_GTRG.Rev\") # Molecular substitution model (GTR+G)\n",
    "\n",
    "source(\"scripts/model_Morph.Rev\") # Morphological character change model\n"
   ]
  },
  {
   "cell_type": "markdown",
   "metadata": {},
   "source": [
    "### Create Model Object\n",
    "\n",
    "We can now create our workspace model variable with our fully specified\n",
    "model DAG. We will do this with the `model` function and provide a\n",
    "single node in the graph (`sf`)."
   ]
  },
  {
   "cell_type": "code",
   "execution_count": 29,
   "metadata": {},
   "outputs": [],
   "source": [
    "mymodel = model(sf)\n"
   ]
  },
  {
   "cell_type": "markdown",
   "metadata": {},
   "source": [
    "The object `mymodel` is a wrapper around the entire model graph and\n",
    "allows us to pass the model to various functions that are specific to\n",
    "our MCMC analysis."
   ]
  },
  {
   "cell_type": "code",
   "execution_count": 30,
   "metadata": {},
   "outputs": [],
   "source": [
    "mni = 1\n"
   ]
  },
  {
   "cell_type": "markdown",
   "metadata": {},
   "source": [
    "The next important step for our master Rev file is to specify the\n",
    "monitors and output file names. For this, we create a vector called\n",
    "`monitors` that will each sample and record or output our MCMC.\n",
    "\n",
    "First, we will specify a workspace variable to iterate over the\n",
    "`monitors` vector."
   ]
  },
  {
   "cell_type": "code",
   "execution_count": 31,
   "metadata": {},
   "outputs": [],
   "source": [
    "monitors[mni++] = mnModel(filename=\"output/bears.log\", printgen=10)\n"
   ]
  },
  {
   "cell_type": "markdown",
   "metadata": {},
   "source": [
    "\t\n",
    "The first monitor we will create will monitor every named random\n",
    "variable in our model graph. This will include every stochastic and\n",
    "deterministic node using the `mnModel` monitor. The only parameter that\n",
    "is not included in the `mnModel` is the tree topology. Therefore, the\n",
    "parameters in the file written by this monitor are all numerical\n",
    "parameters written to a tab-separated text file that can be opened by\n",
    "accessory programs for evaluating such parameters. We will also name the\n",
    "output file for this monitor and indicate that we wish to sample our\n",
    "MCMC every 10 cycles."
   ]
  },
  {
   "cell_type": "markdown",
   "metadata": {},
   "source": [
    "The `mnFile` monitor writes any parameter we specify to file. Thus, if\n",
    "we only cared about the speciation rate and nothing else (this is not a\n",
    "typical or recommended attitude for an analysis this complex) we\n",
    "wouldn’t use the `mnModel` monitor above and just use the `mnFile`\n",
    "monitor to write a smaller and simpler output file. Since the tree\n",
    "topology is not included in the `mnModel` monitor (because it is not\n",
    "numerical), we will use `mnFile` to write the tree to file by specifying\n",
    "our `pruned_tree` variable in the arguments. Remember, we are\n",
    "monitoring the tree with nuisance taxa pruned out."
   ]
  },
  {
   "cell_type": "code",
   "execution_count": null,
   "metadata": {},
   "outputs": [],
   "source": [
    "monitors[mni++] = mnFile(filename=\"output/bears.trees\", printgen=10, pruned_tree)\n"
   ]
  },
  {
   "cell_type": "markdown",
   "metadata": {},
   "source": [
    "The last monitor we will add to our analysis will print information to\n",
    "the screen. Like with `mnFile` we must tell `mnScreen` which parameters\n",
    "we’d like to see updated on the screen. We will choose the age of the\n",
    "MCRCA of living bears (`age_extant`), the number of sampled ancestors\n",
    "(`num_samp_anc`), and the origin time (`origin_time`)."
   ]
  },
  {
   "cell_type": "code",
   "execution_count": null,
   "metadata": {},
   "outputs": [],
   "source": [
    "monitors[mni++] = mnScreen(printgen=10, age_extant, num_samp_anc, origin_time)\n"
   ]
  },
  {
   "cell_type": "markdown",
   "metadata": {},
   "source": [
    "### Set-Up the MCMC}\n",
    "\n",
    "Once we have set up our model, moves, and monitors, we can now create\n",
    "the workspace variable that defines our MCMC run. We do this using the\n",
    "`mcmc` function that simply takes the three main analysis components\n",
    "as arguments."
   ]
  },
  {
   "cell_type": "code",
   "execution_count": null,
   "metadata": {},
   "outputs": [],
   "source": [
    "mymcmc = mcmc(mymodel, monitors, moves)"
   ]
  },
  {
   "cell_type": "markdown",
   "metadata": {},
   "source": [
    "The MCMC object that we named `mymcmc` has a member method called\n",
    "`run`. This will execute our analysis and we will set the chain\n",
    "length to `10000` cycles using the `generations` option."
   ]
  },
  {
   "cell_type": "code",
   "execution_count": null,
   "metadata": {},
   "outputs": [],
   "source": [
    "mymcmc.run(generations=10000)"
   ]
  },
  {
   "cell_type": "markdown",
   "metadata": {},
   "source": [
    "Once our Markov chain has terminated, we will want RevBayes to close.\n",
    "Tell the program to quit using the `q()` function."
   ]
  },
  {
   "cell_type": "code",
   "execution_count": null,
   "metadata": {},
   "outputs": [],
   "source": [
    "q()"
   ]
  },
  {
   "cell_type": "markdown",
   "metadata": {},
   "source": [
    ">You made it! Save all of your files.\n",
    "\n",
    "### Execute the MCMC Analysis \n",
    "\n",
    "With all the parameters specified and all analysis components in place,\n",
    "you are now ready to run your analysis. The Rev scripts you just\n",
    "created will all be used by RevBayes and loaded in the appropriate\n",
    "order.\n",
    "\n",
    "Begin by running the RevBayes executable. In Unix systems, type the\n",
    "following in your terminal (if the RevBayes binary is in your path):\n",
    "\n",
    "Provided that you started RevBayes from the correct directory, you can then use the\n",
    "`source` function to feed RevBayes your master script file\n",
    "(`mcmc_CEFBDRP_Ranges.Rev`)."
   ]
  },
  {
   "cell_type": "code",
   "execution_count": null,
   "metadata": {},
   "outputs": [],
   "source": [
    "source(\"scripts/mcmc_CEFBDRP_Ranges.Rev\")"
   ]
  },
  {
   "cell_type": "markdown",
   "metadata": {},
   "source": [
    "This will execute the analysis and you should see the various parameters you included when you created `mnScreen` printed to the screen every 10 generations. \n",
    "\n",
    "When the analysis is complete, RevBayes will quit and you will have a\n",
    "new directory called `output` that will contain all of the files you\n",
    "specified with the monitors (see Exercise-Monitors).\n",
    "\n",
    "### Evaluate and Summarize Your Results\n",
    "\n",
    "In this section, we will evaluate the *mixing* and *convergence* of our\n",
    "MCMC simulation using the program Tracer. We can also\n",
    "summarize the marginal distributions for particular parameters we’re\n",
    "interested in. [Tracer](http://tree.bio.ed.ac.uk/software/tracer/)\n",
    "\\cite{Rambaut2011} is a tool for visualizing parameters sampled by MCMC.\n",
    "This program is limited to numerical parameters, however, and cannot be\n",
    "used to summarize or analyze MCMC samples of the tree topology (this\n",
    "will be discussed further in Exercise-SummarizeTree).\n",
    "\n",
    "<img src=\"figures/tracer_load_file.png\" width=\"900\" /> \n",
    "**Fig. 8:** The Tracer\n",
    "window. To add data, click on the \"+\" sign, highlighted in red above\n",
    "\n",
    "Open Tracer and import the `bears.log` file in the\n",
    "***File > Import New Trace Files***. Or click the button on the\n",
    "left-hand side of the screen to add your log file (see Fig. 8).\n",
    "\n",
    "<img src=\"figures/tracer_fig_posterior_short.png\" width=\"900\" /> \n",
    "**Fig. 9** The **Estimates** window in Tracer showing the\n",
    "histogram of the **Posterior**\n",
    "\n",
    "Immediately upon loading your file ,\n",
    "you will see the list of **Trace Files** on the left-hand\n",
    "side (you can load multiple files). The bottom left section, called\n",
    "**Traces**, provides a list of every parameter in the log\n",
    "file, along with the mean and the effective sample size (ESS) for the\n",
    "posterior sample of that parameter. The ESS statistic provides a measure\n",
    "of the number of independent draws in our sample for a given parameter.\n",
    "This quantity will typically be much smaller than the number of\n",
    "generations of the chain. In Tracer, poor to fair values\n",
    "for the ESS will be colored red and yellow. You will likely see a lot of\n",
    "red and yellow numbers because the MCMC runs in this exercise are too\n",
    "short to effectively sample the posterior distributions of most\n",
    "parameters. A much longer analysis is provided in the `output`\n",
    "directory.\n",
    "\n",
    "The inspection window for your selected parameter is the\n",
    "**Estimates** window, which shows a histogram and summary\n",
    "statistics of the values sampled by the Markov chain. Fig. 10  shows the marginal distribution of the\n",
    "**Posterior** statistic for the `bears.log` file in the\n",
    "`output` directory.\n",
    "\n",
    "\n",
    "> Look through the various parameters and statistics in the list of\n",
    "**Traces**.\n",
    ">\n",
    "> Are there any parameters that have really low ESS? Why do you think that might be?\n",
    "\n",
    "Next, we can click over to the **Trace** window. This\n",
    "window shows us the samples for a given parameter at each iteration of\n",
    "the MCMC. The left side of the chain has a shaded portion that has been\n",
    "excluded as \"burn-in\". Samples taken near the beginning of chain are\n",
    "often discarded or \"burned\" because the MCMC may not immediately begin\n",
    "sampling from the target posterior distribution, particularly if the\n",
    "starting condition of the chain is far from the region of highest\n",
    "posterior density. Fig. 10 shows the\n",
    "trace for the extinction rate.\n",
    "\n",
    "<img src=\"figures/tracer_extinction_rate_trace_short.png\" width=\"900\" />\n",
    "**Fig. 10** The ***Trace*** window in Tracer. This window\n",
    "shows a line plot of every sampled value for the extinction rate that\n",
    "was saved to file. The lighter shaded portion is the set of samples\n",
    "discarded as \"burn-in\" and are not used to compute the summary\n",
    "statistics found in the ***Estimates*** window.\n",
    "\n",
    "The ***Trace*** window allows us to evaluate how well our\n",
    "chain is sampling the target distribution. For a fairly short analysis,\n",
    "the output in {% ref tracer_extinction_rate_trace_short %} shows reasonable\n",
    "*mixing*—there is no consistent pattern or trend in the samples, nor are\n",
    "there long intervals where the statistic does not change. The presence\n",
    "of a trend or large leaps in a parameter value might indicate that your\n",
    "MCMC is not mixing well. You can read more about MCMC tuning and\n",
    "improving mixing in the tutorials MCMC and CTMC.\n",
    "\n",
    "> Look through the traces for your parameters.\n",
    "> \n",
    "> Are there any parameters in your log files that show trends or large leaps? \n",
    "> What steps might you take to solve these issues?\n",
    "\n",
    "In Tracer you can view the marginal probability\n",
    "distributions of your parameters in the \n",
    "**Marginal Prob Distribution** window. Using this tool, you can compare the\n",
    "distributions of several different parameters (by selecting them both).\n",
    "\n",
    ">Go to the `diversification` parameter in the \n",
    ">**Marginal Prob Distribution** window.\n",
    ">\n",
    ">&#8680; What is the mean value estimated\n",
    "for the net diversification rate ($d$)? \n",
    ">\n",
    ">&#8680; What does the marginal\n",
    ">distribution tell you about the net diversification? (Hint:\n",
    "$d = \\lambda - \\mu$)\n",
    "\n",
    "While specifying the model, remember that we created several\n",
    "deterministic nodes that represent parameters that we would like to\n",
    "estimate, including the net diversification rate. Tracer\n",
    "allows us to view the summaries of these parameters since they appear in\n",
    "our log files.\n",
    "\n",
    "Go to the `age_extant` parameter in the **Estimates**\n",
    "window.\n",
    "\n",
    "&#8680; What is the mean and 95% highest posterior density of the age of the MRCA for all living bears?\n",
    "\n",
    "Since you have evaluated several of the parameters by viewing the trace\n",
    "files and the ESS values, you may be aware that the MCMC analysis you\n",
    "conducted for this tutorial did not sufficiently sample the joint\n",
    "posterior distribution of phylogenetic parameters. More explicitly,\n",
    "*your run has not converged*. It is not advisable to base your\n",
    "conclusions on such a run and it will be critical to perform multiple,\n",
    "independent runs for many more MCMC cycles. For further discussion of\n",
    "recommended MCMC practices in RevBayes, please see the CTMC and MCMC\n",
    "tutorials.\n",
    "\n",
    "### Summarize Tree\n",
    "\n",
    "In addition to evaluating the performance and sampling of an MCMC run\n",
    "using numerical parameters, it is also important to inspect the sampled\n",
    "topology and tree parameters. This is a difficult endeavor, however. One\n",
    "tool for evaluating convergence and mixing of the tree samples is\n",
    "[RWTY](https://github.com/danlwarren/RWTY) \\cite{Warren2016}. In this\n",
    "tutorial, we will only summarize the sampled trees, but we encourage you\n",
    "to consider approaches for assessing the performance of the MCMC with\n",
    "respect to the tree topology.\n",
    "\n",
    "Ultimately, we are interested in summarizing the sampled trees and\n",
    "branch times given that our MCMC has sampled all of the important\n",
    "parameters in proportion to their posterior probabilities. RevBayes\n",
    "includes some functions for summarizing the tree topology and other tree\n",
    "parameters.\n",
    "\n",
    "We will complete this part of the tutorial using RevBayes\n",
    "interactively. \n",
    "\n",
    ">Begin by running the RevBayes executable. You should do\n",
    "this from within the tutorial directory.\n",
    "\n",
    "Read in the MCMC sample of trees from file.\n",
    "\n",
    "#### summarize_CEFBD.Rev\n",
    "\n",
    "By default, a burn-in of 25% is used when creating the tree trace (250\n",
    "trees in our case). You can specify a different burn-in fraction, say\n",
    "50%, by typing the command `trace.setBurnin(500)`."
   ]
  },
  {
   "cell_type": "code",
   "execution_count": null,
   "metadata": {},
   "outputs": [],
   "source": [
    "trace = readTreeTrace(\"output/bears.trees\")\n"
   ]
  },
  {
   "cell_type": "markdown",
   "metadata": {},
   "source": [
    "Now we will use the `mccTree` function to return a maximum clade\n",
    "credibility (MCC) tree. The MCC tree is the tree with the maximum\n",
    "product of the posterior clade probabilities. When considering trees\n",
    "with sampled ancestors, we refer to the maximum sampled ancestor clade\n",
    "credibility (MSACC) tree \\cite{Gavryushkina2016}."
   ]
  },
  {
   "cell_type": "code",
   "execution_count": null,
   "metadata": {},
   "outputs": [],
   "source": [
    "mccTree(trace, file=\"output/bears.mcc.tre\" )\n"
   ]
  },
  {
   "cell_type": "markdown",
   "metadata": {},
   "source": [
    "## summarize_CEFBD.Rev\"\n",
    "\n",
    "When there are sampled ancestors present in the tree, visualizing the\n",
    "tree can be fairly difficult in traditional tree viewers. We will make\n",
    "use of a browser-based tree viewer called\n",
    "[IcyTree](http://tgvaughan.github.io/icytree/), created by [Tim\n",
    "Vaughan](https://github.com/tgvaughan). IcyTree has many\n",
    "unique options for visualizing phylogenetic trees and can produce\n",
    "publication-quality vector image files\n",
    "(*i.e.* SVG). Additionally, it correctly\n",
    "represents sampled ancestors on the tree as nodes, each with only one\n",
    "descendant (Fig. 11).\n",
    "\n",
    "<img src=\"figures/summary_tree.png\" width=\"900\" /> \n",
    "**Fig. 11** Maximum sampled ancestor clade\n",
    "credibility (MSACC) tree of bear species used in this tutorial. Numbers\n",
    "above fossil nodes indicate the posterior probability of being a sampled\n",
    "ancestor\n",
    "\n",
    "Navigate to <https://icytree.org/> and open the file\n",
    "`output/bears.mcc.tre` in IcyTree.\n",
    "\n",
    "> Try to replicate the tree in Fig. 11 (Hint: ***Style > Mark\n",
    "> Singletons***) Why might a node with a sampled ancestor be\n",
    "> referred to as a singleton?\n",
    "\n",
    "> How can you see the names of the fossils that are putative sampled ancestors?\n",
    "\n",
    "> Try mousing over different\n",
    "> branches.. What are the fields\n",
    "> telling you?  What is the\n",
    "> posterior probability that *Zaragocyon daamsi* is a sampled ancestor?\n",
    "\n",
    "Another newly available web-based tree viewer is\n",
    "[Phylogeny.IO](http://phylogeny.io/) \\cite{Jovanovic2016}. Try this site for\n",
    "a different way to view the tree.\n",
    "\n",
    "<img src=\"figures/branch_highlight.png\" width=\"600\" /> \n"
   ]
  },
  {
   "cell_type": "code",
   "execution_count": null,
   "metadata": {},
   "outputs": [],
   "source": []
  }
 ],
 "metadata": {
  "kernelspec": {
   "display_name": "RevBayes",
   "language": "bash",
   "name": "revbayes_kernel"
  },
  "language_info": {
   "codemirror_mode": {
    "name": "r"
   },
   "file_extension": ".Rev",
   "help_links": [
    {
     "text": "RevBayes",
     "url": "https://revbayes.org"
    },
    {
     "text": "RevBayes Kernel",
     "url": "https://github.com/sdwfrost/revbayes_kernel"
    },
    {
     "text": "MetaKernel Magics",
     "url": "https://github.com/calysto/metakernel/blob/master/metakernel/magics/README.md"
    }
   ],
   "mimetype": "text/x-rsrc",
   "name": "RevBayes",
   "pygments_lexer": "R"
  },
  "latex_envs": {
   "LaTeX_envs_menu_present": true,
   "autoclose": false,
   "autocomplete": true,
   "bibliofile": "biblio.bib",
   "cite_by": "key",
   "current_citInitial": 1,
   "eqLabelWithNumbers": true,
   "eqNumInitial": 1,
   "hotkeys": {
    "equation": "Ctrl-E",
    "itemize": "Ctrl-I"
   },
   "labels_anchors": false,
   "latex_user_defs": false,
   "report_style_numbering": false,
   "user_envs_cfg": false
  },
  "toc": {
   "base_numbering": 1,
   "nav_menu": {},
   "number_sections": true,
   "sideBar": true,
   "skip_h1_title": false,
   "title_cell": "Table of Contents",
   "title_sidebar": "Contents",
   "toc_cell": false,
   "toc_position": {},
   "toc_section_display": true,
   "toc_window_display": true
  }
 },
 "nbformat": 4,
 "nbformat_minor": 2
}
