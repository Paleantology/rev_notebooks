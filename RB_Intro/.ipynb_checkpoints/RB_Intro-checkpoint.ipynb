{
 "cells": [
  {
   "cell_type": "markdown",
   "metadata": {},
   "source": [
    "# Rev Language Syntax\n",
    "## A very short introduction to the Rev language\n",
    "### Mike May and Sebastian Höhna\n",
    "\n",
    "Basic Rev Commands\n",
    "==============\n",
    "\n",
    "This tutorial demonstrates the basic syntactical features of RevBayes\n",
    "and the Rev scripting language. A good reference for probabilistic graphical models for\n",
    "Bayesian phylogenetic inference is given in \\cite{Hoehna2014b}. Let’s start with the basic concepts\n",
    "for the interactive use of RevBayes with Rev (the language of\n",
    "RevBayes). You should try to execute the statements step by step, look\n",
    "at the output and try to understand what and why things are happening.\n",
    "\n",
    "First, open up your terminal and type RevBayes by typing:"
   ]
  },
  {
   "cell_type": "code",
   "execution_count": null,
   "metadata": {},
   "outputs": [],
   "source": [
    "rb"
   ]
  },
  {
   "cell_type": "markdown",
   "metadata": {},
   "source": [
    "This should launch RevBayes and give you a command prompt (the `>` character). This means RevBayes is waiting for input.\n",
    "\n",
    "![image](figures/terminal.png)\n",
    "\n",
    "Operators and Functions\n",
    "-----------------------\n",
    "{:.subsection}\n",
    "\n",
    "Rev is an interpreted language for statistical computing and phylogenetic\n",
    "analysis. Therefore, the basics are simple mathematical operations.\n",
    "Entering each of the following lines will automatically execute these\n",
    "operations."
   ]
  },
  {
   "cell_type": "code",
   "execution_count": null,
   "metadata": {},
   "outputs": [],
   "source": [
    "# Simple mathematical operators:\n",
    "1 + 1                            # Addition\n",
    "10 - 5                           # Subtraction\n",
    "5 * 5                            # Multiplication\n",
    "10 / 2                           # Division\n",
    "2^3                              # Exponentiation\n",
    "5%2                              # Modulo"
   ]
  },
  {
   "cell_type": "markdown",
   "metadata": {},
   "source": [
    "![image](figures/revbayes_operations.png)\n",
    "\n",
    "From now on, we will omit images of the terminal.\n",
    "\n",
    "Each set of operations constitutes a *statement*. As you work through\n",
    "these tutorials, it is helpful to write the statements you enter into a\n",
    "blank text file, then copy-and-paste the statements into to execute\n",
    "them. This way, you have a complete history of everything you’ve done,\n",
    "and can easily start over without having to rewrite everything. We refer\n",
    "to the text file containing the list of commands as a *script*, because\n",
    "it describes line-by-line instructions for the program to follow.\n",
    "\n",
    "You can write multiple statements in the same line if you separate them\n",
    "by a semicolon (`;`). The statements will execute as if you wrote each\n",
    "on a single line."
   ]
  },
  {
   "cell_type": "code",
   "execution_count": null,
   "metadata": {},
   "outputs": [],
   "source": [
    "1 + 1; 2 + 2                    # Multiple statements in one line"
   ]
  },
  {
   "cell_type": "markdown",
   "metadata": {},
   "source": [
    "Here you can see that comments always start with the hash symbol (`#`).\n",
    "Everything after the `#`-symbol will be ignored. In addition to these\n",
    "simple mathematical operations, provides some standard math functions\n",
    "which can be called by:"
   ]
  },
  {
   "cell_type": "code",
   "execution_count": null,
   "metadata": {},
   "outputs": [],
   "source": [
    "# Math functions\n",
    "exp(1)                           # exponential function\n",
    "ln(1)                            # logarithmic function with natural base\n",
    "sqrt(16)                         # square root function \n",
    "power(2,2)                       # power function: power(a,b) = a^b"
   ]
  },
  {
   "cell_type": "markdown",
   "metadata": {},
   "source": [
    "Notice that Rev is case-sensitive. That means, Rev distinguishes upper and lower\n",
    "case letter for both variable names and function names. For example,\n",
    "only the first of these two calls will work:"
   ]
  },
  {
   "cell_type": "code",
   "execution_count": null,
   "metadata": {},
   "outputs": [],
   "source": [
    "exp(1)                           # correct lower case name\n",
    "Exp(1)                           # wrong upper case name"
   ]
  },
  {
   "cell_type": "markdown",
   "metadata": {},
   "source": [
    "Variable Declaration and Assignment\n",
    "-----------------------------------\n",
    "\n",
    "One of the most important features of (or any programming language,\n",
    "really) is the ability to declare and assign variables. Variables store\n",
    "information to be referenced later, and can change throughout the\n",
    "execution of the program. There are three kinds of variables in RevBayes, called\n",
    "*constant*, *deterministic*, and *stochastic* variables. Constant\n",
    "variables contain values that are not random in your model.\n",
    "Deterministic variables are functions of other variables. Stochastic\n",
    "variables are random variables in your model, and will change during\n",
    "your analysis; importantly, stochastic variables (being random\n",
    "variables) are always associated with a particular statistical\n",
    "distribution.\n",
    "\n",
    "Different types of variables differ in how you create them and assign\n",
    "values to them. We will begin by creating a constant variable with name\n",
    "`a` that starts with the value 1. The left arrow assignment (`<-`)\n",
    "always creates a constant variable, and automatically assigns the\n",
    "following value to it."
   ]
  },
  {
   "cell_type": "code",
   "execution_count": null,
   "metadata": {},
   "outputs": [],
   "source": [
    "# Variable assignment: constant\n",
    "a <- 1                           # assignment of constant node `a'"
   ]
  },
  {
   "cell_type": "markdown",
   "metadata": {},
   "source": [
    "You see the value of ‘a’ by just typing in the variable name and\n",
    "pressing enter."
   ]
  },
  {
   "cell_type": "code",
   "execution_count": null,
   "metadata": {},
   "outputs": [],
   "source": [
    "a                                # printing the value of `a'"
   ]
  },
  {
   "cell_type": "markdown",
   "metadata": {},
   "source": [
    "Next, we create a deterministic variable `b` using the `:=` assignment\n",
    "computed by `exp(a)` and another deterministic variable `c` computed by\n",
    "`ln(b)`. Deterministic variables are always created using the\n",
    "colon-equal assignment (`:=`)."
   ]
  },
  {
   "cell_type": "code",
   "execution_count": null,
   "metadata": {},
   "outputs": [],
   "source": [
    "# Variable assignment: deterministic\n",
    "\n",
    "# assignment of deterministic node `b' with\n",
    "# the exponential function with parameter `a'\n",
    "b := exp(a)  \n",
    "b\n",
    "\n",
    "# assignment of deterministic node `c' with\n",
    "# logarithmic function with parameter `b'\n",
    "c := ln(b)              \n",
    "c "
   ]
  },
  {
   "cell_type": "markdown",
   "metadata": {},
   "source": [
    "Finally, we will create the third type of variables in RevBayes: stochastic\n",
    "variables. We will create a random variable `x` from an exponential\n",
    "distribution with parameter `lambda`. Stochastic assignments use the\n",
    "$\\sim$ operation."
   ]
  },
  {
   "cell_type": "code",
   "execution_count": null,
   "metadata": {},
   "outputs": [],
   "source": [
    "# Variable assignment: stochastic\n",
    "\n",
    "# assign constant node `lambda' with value `1'\n",
    "lambda <- 1.0\n",
    "\n",
    "# create stochastic node with exponential \n",
    "# distribution and parameter `lambda'\n",
    "x ~ dnExponential(lambda)"
   ]
  },
  {
   "cell_type": "markdown",
   "metadata": {},
   "source": [
    "The value of `x` is a random draw from the distribution. You can see the\n",
    "value and the probability (or log-probability) of the current value\n",
    "under the current parameter values by"
   ]
  },
  {
   "cell_type": "code",
   "execution_count": null,
   "metadata": {},
   "outputs": [],
   "source": [
    "x                                # print value of stochastic node `x'\n",
    "x.probability()                  # print the probability if `x'\n",
    "x.lnProbability()                # print the log-probability if `x'"
   ]
  },
  {
   "cell_type": "markdown",
   "metadata": {},
   "source": [
    "Distributions and Random Numbers\n",
    "--------------------------------\n",
    "\n",
    "RevBayes provides functions for common statistical distributions. We'll\n",
    "demonstrate by generating random exponential numbers as we did in\n",
    "lecture. Recall that we can transform a random variable $u$ sampled from\n",
    "a Uniform(0,1) distribution into an exponential distribution with rate\n",
    "parameter $\\lambda$:\n",
    "\n",
    "$$\\begin{aligned}\n",
    "    u &\\sim \\text{Uniform(0,1)}\\\\\n",
    "    x &= -\\frac{\\ln u}{\\lambda} \\end{aligned}$$\n",
    "\n",
    "In RevBayes, we might describe\n",
    "$u$ as a stochastic variable, and $x$ as a deterministic variable (since\n",
    "it is a function of $u$):"
   ]
  },
  {
   "cell_type": "code",
   "execution_count": null,
   "metadata": {},
   "outputs": [],
   "source": [
    "# create the random variable u\n",
    "u ~ dnUniform(0,1)\n",
    "u\n",
    "\n",
    "# determine the rate parameter\n",
    "lambda <- 1.0\n",
    "\n",
    "# create x as a deterministic function of u\n",
    "x := -ln(u) / lambda\n",
    "x"
   ]
  },
  {
   "cell_type": "markdown",
   "metadata": {},
   "source": [
    "Alternatively, we can create $x$ directly as an exponential random\n",
    "variable:"
   ]
  },
  {
   "cell_type": "code",
   "execution_count": null,
   "metadata": {},
   "outputs": [],
   "source": [
    "# create the random variable x\n",
    "x ~ dnExponential(lambda)\n",
    "x"
   ]
  },
  {
   "cell_type": "markdown",
   "metadata": {},
   "source": [
    "Vectors\n",
    "-------\n",
    "\n",
    "Individual variables can have more than one value. Variables that have\n",
    "more than one value are called *vectors*. The simplest way to create a\n",
    "vector is like this:"
   ]
  },
  {
   "cell_type": "code",
   "execution_count": null,
   "metadata": {},
   "outputs": [],
   "source": [
    "z <- v(1.0,2.0,3.0)              # create a vector"
   ]
  },
  {
   "cell_type": "markdown",
   "metadata": {},
   "source": [
    "You can refer to a specific value in the vector using brackets, `[i]`,\n",
    "where `i` is the index of the variable of interest."
   ]
  },
  {
   "cell_type": "code",
   "execution_count": null,
   "metadata": {},
   "outputs": [],
   "source": [
    "z[1]                             # print the first entry\n",
    "z[1] <- 10                       # change the value of the first entry\n",
    "z"
   ]
  },
  {
   "cell_type": "markdown",
   "metadata": {},
   "source": [
    "`for` loops\n",
    "-----------\n",
    "\n",
    "`for` loops are important programming structures that allow you to\n",
    "repeat the same statement a number of times on different variables. The\n",
    "basic structure of a `for` loop is:"
   ]
  },
  {
   "cell_type": "code",
   "execution_count": null,
   "metadata": {},
   "outputs": [],
   "source": [
    "# a for loop\n",
    "for ([variable] in [set of values]) {\n",
    "   [statements using variable]\n",
    "}"
   ]
  },
  {
   "cell_type": "markdown",
   "metadata": {},
   "source": [
    "The `for` statement is followed by a set of parenthesis containing\n",
    "`[variable]`, which contains the name of the variable being iterated,\n",
    "and `[set of values]`, which are the values that the variable iterates\n",
    "over. The `for` loop variable is a special variable that is created by\n",
    "the `for` loop: you do not have to create it before executing the loop.\n",
    "This simple `for` loop creates the variable `i`, and for each value of\n",
    "`i` from 1 to 100, prints the value of `i` to the screen."
   ]
  },
  {
   "cell_type": "code",
   "execution_count": null,
   "metadata": {},
   "outputs": [],
   "source": [
    "for (i in 1:100) {\n",
    "  i\n",
    "}"
   ]
  },
  {
   "cell_type": "markdown",
   "metadata": {},
   "source": [
    "`for` loops are very powerful programming tools. We can use a `for` loop\n",
    "to create an entire *vector* of uniform random numbers, and transform\n",
    "them into a *second* vector of exponential random numbers."
   ]
  },
  {
   "cell_type": "code",
   "execution_count": null,
   "metadata": {},
   "outputs": [],
   "source": [
    "for (i in 1:100) {\n",
    "  u[i] ~ dnUniform(0,1)\n",
    "  x[i] := -ln(u[i]) / lambda \n",
    "}"
   ]
  },
  {
   "cell_type": "markdown",
   "metadata": {},
   "source": [
    "Close using the statement `q()`."
   ]
  },
  {
   "cell_type": "code",
   "execution_count": null,
   "metadata": {},
   "outputs": [],
   "source": [
    "q()"
   ]
  }
 ],
 "metadata": {
  "kernelspec": {
   "display_name": "RevBayes",
   "language": "bash",
   "name": "revbayes_kernel"
  },
  "language_info": {
   "codemirror_mode": {
    "name": "r"
   },
   "file_extension": ".Rev",
   "help_links": [
    {
     "text": "RevBayes",
     "url": "https://revbayes.org"
    },
    {
     "text": "RevBayes Kernel",
     "url": "https://github.com/sdwfrost/revbayes_kernel"
    },
    {
     "text": "MetaKernel Magics",
     "url": "https://github.com/calysto/metakernel/blob/master/metakernel/magics/README.md"
    }
   ],
   "mimetype": "text/x-rsrc",
   "name": "RevBayes",
   "pygments_lexer": "R"
  },
  "latex_envs": {
   "LaTeX_envs_menu_present": true,
   "autoclose": false,
   "autocomplete": true,
   "bibliofile": "biblio.bib",
   "cite_by": "apalike",
   "current_citInitial": 1,
   "eqLabelWithNumbers": true,
   "eqNumInitial": 1,
   "hotkeys": {
    "equation": "Ctrl-E",
    "itemize": "Ctrl-I"
   },
   "labels_anchors": false,
   "latex_user_defs": false,
   "report_style_numbering": false,
   "user_envs_cfg": false
  }
 },
 "nbformat": 4,
 "nbformat_minor": 2
}
