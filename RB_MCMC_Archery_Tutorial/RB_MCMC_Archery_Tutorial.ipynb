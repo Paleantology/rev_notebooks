{
 "cells": [
  {
   "cell_type": "markdown",
   "metadata": {},
   "source": [
    "# Introduction to MCMC using RevBayes\n",
    "## A simple Archery example for building a hierarchical model and sampling under Markov Chain Monte Carlo\n",
    "### Wade Dismukes, Tracy A. Heath, Walker Pett\n",
    "\n",
    "Overview\n",
    "========\n",
    "\n",
    "This tutorial is intended to provide a introduction to the basics of\n",
    "Markov chain Monte Caro (MCMC) using the Metropolis-Hastings algorithm.\n",
    "This will provide a brief introduction to MCMC moves as well as prior\n",
    "distributions. We begin with a simple example of estimating the\n",
    "probability distribution of an archer’s ability to shoot at a target,\n",
    "and the distance those arrows land from the center. We will simulate\n",
    "data using this example and attempt to estimate the posterior\n",
    "distribution using a variety of MCMC moves.\n",
    "\n",
    "Modeling an Archer’s Shots on a Target\n",
    "======================================\n",
    "\n",
    "<img src=\"figures/target.png\" width=\"200\" />  \n",
    "*Fig 1. Representation of the archery data used in this tutorial. Each yellow dot represents the position of an arrow shot by an archer.The distance of each arrow from the the center of the target is assumed to be exponentially distributed with mean $\\mu$.*\n",
    "\n",
    "We’ll begin our exploration of Bayesian inference with a simple archery\n",
    "model. For this model, there is an unknown archer shooting $n$ arrows at\n",
    "a target (see {% ref target %}). The distance $d$ of each arrow\n",
    "from the target’s center is measured. Let’s assume that the distance of\n",
    "each arrow from the bullseye follows an exponential\n",
    "distribution—*i.e.,* $d\\sim\\mbox{Exp}(\\mu^{-1})$. This implies the archer has an inherent ability to shoot arrows at an average distance $\\mu$. Then, the probability density of each arrow distance $d_i$ is \n",
    "\n",
    "$$\n",
    "\\begin{aligned}\n",
    "P(d_i \\mid \\mu) = \\frac{1}{\\mu} e^{-d_i/\\mu}\n",
    "\\end{aligned}\n",
    "$$ \n",
    "\n",
    "Simple intuition suggests that, given that we observe $n$ arrows, a good\n",
    "estimate of $\\mu$ is the average of all the arrow distances\n",
    "$\\bar d = \\frac{1}{n}\\sum_{i=1}^n d_i$. Indeed this is the maximum\n",
    "likelihood estimate! In fact, given $n$ arrows whose distances follow an\n",
    "exponential distribution, it turns out that the observed average\n",
    "$\\bar d$ follows a gamma distribution, with parameters $n$ and $n/\\mu$,\n",
    "\n",
    "$$\n",
    "\\begin{aligned}\n",
    "P(\\bar d \\mid \\mu,n) = \\frac{(n/\\mu)^n}{\\Gamma(n)} {\\bar d}\\,^{n-1}e^{-n\\bar d /\\mu}\n",
    "\\end{aligned}\n",
    "$$\n",
    "\n",
    "In this case, the average $\\bar d$ acts as a *sufficient statistic* for\n",
    "$\\mu$. This means that it tells just as much about $\\mu$ as the\n",
    "collection of individual arrow distances. Therefore, we will use a\n",
    "Gamma$(n, n/\\mu)$ distribution on $\\bar d$ as the likelihood of our\n",
    "data.\n",
    "\n",
    "From Bayes’ theorem, the *posterior distribution* of $\\mu$ given\n",
    "$\\bar d$, $P(\\mu \\mid \\bar d)$, is: \n",
    "\n",
    "$$\n",
    "\\begin{aligned}\n",
    "P\\left(\\mu \\mid \\bar d\\right) = \\frac{P\\left(\\bar d \\mid \\mu\\right) \\times P\\left(\\mu\\right)}{P\\left(\\bar d\\right)}\n",
    "\\end{aligned}\n",
    "$$\n",
    "\n",
    "Where $P(\\mu \\mid \\bar d)$ is our posterior distribution, $P(\\bar d \\mid \\mu)$ is our likelihood or data distribution, $P(\\mu)$ is our prior distribution, and $P(\\bar d)$ is our marginal likelihood. The take-home message here is that, if we’re interested in doing Bayesian inference for the archery model, we need to specify a *likelihood function* and a *prior distribution* for $\\mu$. In virtually all practical cases, we cannot compute the posterior distribution directly and instead use numerical procedures, such as a Markov chain Monte Carlo (MCMC) algorithm. Therefore, we will also have to write a MCMC algorithm that samples parameter values in the frequency of their posterior probability.\n",
    "\n",
    "We’ll use a simple exponential distribution as a prior on the parameter of the model, $\\mu$. The [exponential distribution](https://en.wikipedia.org/wiki/Exponential_distribution) has one parameter $\\alpha$ representing our prior belief about the mean arrow distance {% ref exponential %}. Different choices for $\\alpha$ represent different prior beliefs.\n",
    "\n",
    "![](figures/exp.png) \n",
    "\n",
    "*Fig 2. Exponential distribution with one parameter $\\alpha$. This distribution is used as a prior distribution on the average arrow distance $\\mu$.Here we show different curves for the exponential distribution when using different parameters.*\n",
    "\n",
    "\n",
    "\n",
    "Fig 3. shows the graphical model for the archery model. This nicely visualizes the dependency structure in the model. We see that the parameter $\\alpha$ is drawn in a solid square, representing that this variable is constant (*i.e.,* it takes a “known” value). Following the graph in Fig 3, we see an arrow connecting $\\alpha$ and the variable $\\mu$. That simply means that $\\mu$ depends on $\\alpha$. More specifically, $\\mu$ is a stochastic variable (shown as a solid circle) that is drawn from an exponential distribution with parameter $\\alpha$. Another constant variable, $n$, represents the number of shots taken by the archer. Finally, we have the observed data $\\bar d$ which is drawn from a gamma distribution with parameters $\\mu$ and $n$, as can be seen by the arrows pointing from those parameters to $d$. Furthermore, the solid circle of $\\bar d$ is shaded which means that the variable has data attached to it.\n",
    "\n",
    "<img src=\"figures/archery_graphical_model.png\" width=\"200\" />  \n",
    "\n",
    "*Fig 3. Graphical model for the archery model.*\n",
    "\n",
    "\n",
    "\n",
    "Writing MCMC from Scratch\n",
    "=========================\n",
    "\n",
    "\n",
    "Tutorial Format\n",
    "---------------\n",
    "\n",
    "\n",
    "This tutorial follows a specific format for issuing instructions and\n",
    "information.\n",
    "\n",
    "The boxed instructions guide you to complete tasks that are not part of the RevBayes syntax, but rather direct you to create directories or files or similar.\n",
    "\n",
    "Information describing the commands and instructions will be written in paragraph-form before or after they are issued.\n",
    "\n",
    "All command-line text, including all `Rev` syntax, are given in `monotype font`. Furthermore, blocks of `Rev` code that are needed to build the model, specify the analysis, or execute the run are given in separate shaded boxes. For example, we will instruct you to create a new variable called `n` that is equal to `10` using the `=` operator like this:"
   ]
  },
  {
   "cell_type": "code",
   "execution_count": null,
   "metadata": {},
   "outputs": [],
   "source": [
    "n = 10"
   ]
  },
  {
   "cell_type": "markdown",
   "metadata": {},
   "source": [
    "Create Your Script File\n",
    "-----------------------\n",
    "\n",
    "Make yourself familiar with the example script called [`archery_MH.Rev`](https://raw.githubusercontent.com/revbayes/revbayes_tutorial/master/RB_MCMC_Archery_Tutorial/archery_MH.Rev) which shows the code for the following sections. Then, start a new and empty script in your text editor and follow each step provided as below.\n",
    "\n",
    "Name the script file `my_archery_MH.Rev` or anything you’d like.\n",
    "\n",
    "The Metropolis-Hastings Algorithm\n",
    "---------------------------------\n",
    "\n",
    "Though RevBayes implements efficient and easy-to-use Markov chain Monte Carlo (MCMC) algorithms, we’ll begin by writing one ourselves to gain a better understanding of the moving parts. The Metropolis-Hastings MCMC algorithm (Metropolis 1953, Hastings1970) proceeds as follows:\n",
    "\n",
    "1.  Generate initial values for the parameters of the model (in this\n",
    "    case, $\\mu$).\n",
    "\n",
    "2.  Propose a new value (which we’ll call $\\mu^\\prime$) for some\n",
    "    parameters of the model, (possibly) based on their current values\n",
    "\n",
    "3.  Calculate the acceptance probability, $R$, according to:"
   ]
  },
  {
   "cell_type": "markdown",
   "metadata": {},
   "source": [
    "$$\\begin{aligned}\n",
    "R &= \\text{min}\\left\\{1, \\frac{P(\\bar d \\mid \\mu^\\prime)}{P(\\bar d \\mid \\mu)} \\times \\frac{P(\\mu^\\prime)}{P(\\mu)} \\times \\frac{q(\\mu)}{q(\\mu^\\prime)} \\right\\}\\\\\n",
    "  &= \\text{min}\\left\\{1, \\text{likelihood ratio} \\times \\text{prior ratio} \\times \\text{proposal ratio} \\right\\},\n",
    "\\end{aligned}$$\n",
    "\n",
    "where the proposal ratio (also called the Hastings ratio) ensures the correct target density, even if the move is biased."
   ]
  },
  {
   "cell_type": "markdown",
   "metadata": {},
   "source": [
    "4.  Generate a uniform random number $u$ between 1 and 0."
   ]
  },
  {
   "cell_type": "markdown",
   "metadata": {},
   "source": [
    "if $u<R$:\n",
    "\n",
    ":  then accept the move and set $\\mu = \\mu^\\prime$.\n",
    "\n",
    "else (if $u \\geq R$):\n",
    "\n",
    ":   the value of $\\mu$ does not change and the move is rejected:\n",
    "    $\\mu = \\mu$."
   ]
  },
  {
   "cell_type": "markdown",
   "metadata": {},
   "source": [
    "5.  Record the values of the parameters.\n",
    "\n",
    "6.  Return to step 2 many, many times, keeping track of the value of $\\mu$.\n",
    "\n",
    "Reading in the data\n",
    "-------------------\n",
    "\n",
    "Since we do not have access to archery data, we will simulate the the shots of our archer using the simulation tools in RevBayes. By simulating the data, we can also evaluate how well our moves and prior model perform—*i.e.,* how robust and accurate our estimators are. After completing this exercise, feel free to repeat it and alter the true values to see how they influence the posterior distribution."
   ]
  },
  {
   "cell_type": "code",
   "execution_count": null,
   "metadata": {},
   "outputs": [],
   "source": [
    "# Simulate some data (i.e. shoot some arrows)\n",
    "# First we need the number of arrows to shoot\n",
    "n = 10\n",
    "# Then we need a true mean distance\n",
    "mu_true = 1\n",
    "# Simulate the observed mean distance of the arrows shot from a gamma distribution\n",
    "arrow_mean = rgamma(1, n, n/mu_true)[1]"
   ]
  },
  {
   "cell_type": "markdown",
   "metadata": {},
   "source": [
    "The `Rev` code above uses the `rgamma()` function to simulate a single\n",
    "observed `arrow_mean` from $n=10$ arrows shot on target. The `[1]`\n",
    "following the `rgamma()` function is needed because this function always\n",
    "returns a *vector* even when we only request a single value. Thus, in\n",
    "order to treat `arrow_mean` as a single value, we have to request the\n",
    "first element of the vector returned by that function.\n",
    "\n",
    "Initializing the Markov chain\n",
    "-----------------------------\n",
    "\n",
    "We have to start the MCMC off with some initial values for all of the\n",
    "parameters. One way to do this is to randomly draw values of the\n",
    "parameters (just $\\mu$, in this case) from the prior distribution. We’ll\n",
    "assume a simple exponential prior distribution; that is, one with\n",
    "$\\alpha = 1$."
   ]
  },
  {
   "cell_type": "code",
   "execution_count": null,
   "metadata": {},
   "outputs": [],
   "source": [
    "# Initialize the chain with some starting value\n",
    "alpha = 1.0\n",
    "mu = rexp(1, alpha)[1]"
   ]
  },
  {
   "cell_type": "markdown",
   "metadata": {},
   "source": [
    "### Likelihood function\n",
    "\n",
    "Next we will specify the likelihood function, which will compute the\n",
    "probability of our data given the prior model. We use the gamma\n",
    "distribution for the likelihood. Since the likelihood is defined only\n",
    "for values of $\\mu$ greater than 0, we return a likelihood of 0.0 if\n",
    "$\\mu$ is negative:"
   ]
  },
  {
   "cell_type": "code",
   "execution_count": null,
   "metadata": {},
   "outputs": [],
   "source": [
    "# Define the likelihood function on the mean\n",
    "function likelihood(mu){\n",
    "    if(mu < 0.0)\n",
    "        return 0.0\n",
    "    return dgamma(arrow_mean, n, n/mu, log=false)\n",
    "}"
   ]
  },
  {
   "cell_type": "markdown",
   "metadata": {},
   "source": [
    "In `Rev`, we can create a *user-defined function* using the\n",
    "`function` keyword. In our function definition above, `likelihood()`\n",
    "takes a single value as an argument that is expected to be the mean\n",
    "($\\mu$) value. All other parameters in our function are expected to be\n",
    "defined before `likelihood()` is called.\n",
    "\n",
    "### Prior distribution\n",
    "\n",
    "Similarly, we need to define a function for the prior distribution.\n",
    "Here, we use the exponential probability distribution for the prior on\n",
    "$\\mu$:"
   ]
  },
  {
   "cell_type": "code",
   "execution_count": null,
   "metadata": {},
   "outputs": [],
   "source": [
    "# Define the prior function on the mean\n",
    "function prior(mu){\n",
    "    if(mu < 0.0)\n",
    "        return 0.0\n",
    "    return dexp(mu, alpha, log=false)\n",
    "}"
   ]
  },
  {
   "cell_type": "markdown",
   "metadata": {},
   "source": [
    "### Monitoring parameter values\n",
    "\n",
    "Additionally, we are going to monitor, *i.e.* store, parameter values into a file during the MCMC simulation. For this file we need to write the column\n",
    "headers in the first line of our output file, which we will name\n",
    "`archery_MH.log` (you may have to change the newline characters from\n",
    "`\\n` to `\\r\\n` if you’re using a Windows operating system.):"
   ]
  },
  {
   "cell_type": "code",
   "execution_count": null,
   "metadata": {},
   "outputs": [],
   "source": [
    "# Prepare a file to log our samples\n",
    "write(\"iteration\",\"mu\",\"\\n\",file=\"archery_MH.log\")\n",
    "write(0,mu,\"\\n\",file=\"archery_MH.log\",append=TRUE)"
   ]
  },
  {
   "cell_type": "markdown",
   "metadata": {},
   "source": [
    "We’ll also monitor the parameter values to the screen, so let’s print\n",
    "the initial values:"
   ]
  },
  {
   "cell_type": "code",
   "execution_count": null,
   "metadata": {},
   "outputs": [],
   "source": [
    "# Print the initial values to the screen\n",
    "print(\"iteration\",\"mu\")\n",
    "print(0,mu)"
   ]
  },
  {
   "cell_type": "markdown",
   "metadata": {},
   "source": [
    "Writing the Metropolis-Hastings Algorithm\n",
    "-----------------------------------------\n",
    "\n",
    "At long last, we can write our MCMC algorithm. First, we define how\n",
    "often we print to file (*i.e.,* monitor); this is called thinning if we do not choose to save every value of our parameter to file. If we set the variable `printgen=1`, then we will store the parameter values at every iteration; if we instead choose `printgen=10`, then we’ll only save the values every $10^{th}$ step in our Markov chain."
   ]
  },
  {
   "cell_type": "code",
   "execution_count": null,
   "metadata": {},
   "outputs": [],
   "source": [
    "# Write the MH algorithm    \n",
    "printgen = 10"
   ]
  },
  {
   "cell_type": "markdown",
   "metadata": {},
   "source": [
    "We will repeat this resampling procedure many times and iterate the MCMC\n",
    "using a `for` loop (*e.g.,* step 6 in [The Metropolis-Hastings Algorithm Section](#sect:MH_algorithm)). We will start\n",
    "this part by defining the number of iterations for our MCMC ( `reps =\n",
    "10000`), and writing the first line of our ‘for‘ loop. We’ll also define\n",
    "a variable `delta` (explained momentarily)."
   ]
  },
  {
   "cell_type": "code",
   "execution_count": null,
   "metadata": {},
   "outputs": [],
   "source": [
    "reps = 10000\n",
    "delta = 1\n",
    "for(rep in 1:reps){"
   ]
  },
  {
   "cell_type": "markdown",
   "metadata": {},
   "source": [
    "In `Rev`, the contents of every `for` loop must be enclosed within a set\n",
    "of ‘curly braces’ . Our loop will not be complete until we finish it and\n",
    "add the closing brace. Additionally, it is good style to make our loops\n",
    "readable by indenting the contents within the curly braces. We recommend\n",
    "that you use 4 spaces to represent these indents.\n",
    "\n",
    "For our MCMC algorithm, the first thing we do is generate a new value of\n",
    "$\\mu^\\prime$ to evaluate (step 2 of the [The Metropolis-Hastings Algorithm Section](#sect:MH_algorithm)). We’ll propose a new value of $\\mu$ by\n",
    "drawing a random number from a uniform window and then adding this\n",
    "random number to the current value (*i.e.* centered on the previous value). The\n",
    "value of `delta` defines the width of the uniform window from which we\n",
    "draw new values. Thus, if `delta` is large, then the proposed values are\n",
    "more likely to be very different from the current value of $\\mu$.\n",
    "Conversely, if `delta` is small, then the proposed values are more\n",
    "likely to be very close to the current value of $\\mu$. By changing the\n",
    "value of `delta` we can tune the behavior of the proposal, and therefore\n",
    "`delta` is called a *tuning parameter*."
   ]
  },
  {
   "cell_type": "code",
   "execution_count": null,
   "metadata": {},
   "outputs": [],
   "source": [
    "# Propose a new value of p\n",
    "mu_prime <- mu + runif(n=1,-delta,delta)[1]"
   ]
  },
  {
   "cell_type": "markdown",
   "metadata": {},
   "source": [
    "Next, we compute the proposed likelihood and prior probabilities using\n",
    "the functions we defined above, as well as the acceptance probability,\n",
    "$R$ (step 3 of the [The Metropolis-Hastings Algorithm Section](#sect:MH_algorithm)):"
   ]
  },
  {
   "cell_type": "code",
   "execution_count": null,
   "metadata": {},
   "outputs": [],
   "source": [
    "# Compute the acceptance probability\n",
    "R = ( likelihood(mu_prime)/likelihood(mu) ) * ( prior(mu_prime)/prior(mu) )"
   ]
  },
  {
   "cell_type": "markdown",
   "metadata": {},
   "source": [
    "Then, we accept the proposal with probability $R$ and reject otherwise\n",
    "(step 4 of the [The Metropolis-Hastings Algorithm Section](#sect:MH_algorithm)):\n",
    "\n",
    "Finally, we store the current value of $\\mu$ in our log file (step\n",
    "5 of the the [The Metropolis-Hastings Algorithm Section](#sect:MH_algorithm)). Here, we actually check if we want to store the value during this iteration.\n",
    "\n",
    "\n",
    "# Execute the MCMC Analysis \n",
    "\n",
    "Now that you have defined your model and written functions to compute the probability and sample values of $\\mu$, you are now ready to run your analysis. You can run it from the notebook like so:\n"
   ]
  },
  {
   "cell_type": "code",
   "execution_count": null,
   "metadata": {},
   "outputs": [],
   "source": [
    "! rb archery_RB.Rev"
   ]
  },
  {
   "cell_type": "markdown",
   "metadata": {},
   "source": [
    "Exercise 1\n",
    "----------\n",
    "\n",
    "1.  Write and execute the script outlined above, which you can give any\n",
    "    name you like (there is also an example file\n",
    "    called `archery_MH.Rev`).\n",
    "\n",
    "2.  The `.log` file will contain samples from the posterior distribution\n",
    "    of the model. Open the file in `Tracer` to learn about\n",
    "    various features of the posterior distribution, for example: the\n",
    "    posterior mean or the 95% credible interval."
   ]
  },
  {
   "cell_type": "code",
   "execution_count": null,
   "metadata": {},
   "outputs": [],
   "source": [
    "! ~/software/Tracer_v1.7.1/bin/tracer archery_RB.log"
   ]
  },
  {
   "cell_type": "markdown",
   "metadata": {},
   "source": [
    "Pretty awesome, right?\n",
    "\n",
    "Below we show an example of the obtained output in\n",
    "`Tracer`. Specifically, {% ref mcmc-trace %} shows\n",
    "the sample trace (left) and the estimated posterior distribution of\n",
    "$\\mu$ (right). There are other parameters, such as the posterior mean\n",
    "and the 95% HPD (highest posterior density) interval, that you can\n",
    "obtain from `Tracer`.\n",
    "\n",
    "<img src=\"figures/archery_MCMC_Trace.png\" width=\"45%\" />\n",
    "<img src=\"figures/archery_MCMC_distribution.png\" width=\"45%\" />\n",
    "The *Trace* of sample from an MCMC simulation. Right: The approximated posterior probability distribution for $\\mu$.\n",
    "\n",
    "\n",
    "More on Moves: Tuning and Weights\n",
    "=================================\n",
    "\n",
    "In the previous example we hard coded a single move updating the\n",
    "variable $\\mu$ by drawing a new value from a sliding window. There are\n",
    "other ways how to propose new values; some of which are more efficient\n",
    "than others.\n",
    "\n",
    "First, let us rewrite the MCMC loop so that instead we call a function,\n",
    "which we name `move_slide` for simplicity, that performs the move:\n",
    "\n",
    "Slide move\n",
    "----------\n",
    "\n",
    "Now we need to actually write the `move_slide` function. We mostly just\n",
    "copy the code we had before into a dedicated function\n",
    "\n",
    "There are a few things to consider in the function `move_slide`. First,\n",
    "we do not have a return value because the move simply changes the\n",
    "variable $\\mu$ if the move is accepted. Second, in addition to the\n",
    "tuning parameter `delta`, we expect an argument called `weight` which\n",
    "will tell us how often we want to use this move. Otherwise, this\n",
    "function does exactly the same what was inside the for loop previously.\n",
    "\n",
    "(Note that you need to define this function before the for loop in your\n",
    "script).\n",
    "\n",
    "Experiment with different values for `delta` and see how the effective\n",
    "sample size (ESS) changes.\n",
    "\n",
    "There is, *a priori*, no good method for knowing what values of `delta` are most efficient. However, there are some algorithms implemented in RevBayes, called *auto-tuning*, that will estimate good values for `delta`.\n",
    "\n",
    "Scaling move\n",
    "------------\n",
    "\n",
    "As another move we will write a scaling move. The scaling move proposes\n",
    "an update by drawing a random number from a $Uniform(-0.5,0.5)$\n",
    "distribution, exponentiating the random number, and then multiplying\n",
    "this scaling factor by the current value. An interesting feature of this\n",
    "move is that it is not symmetrical and thus needs a Hastings ratio (this\n",
    "is the same as the proposal ratio given in Section\n",
    "[sect:MH_algorithm]). The Hastings ratio is rather trivial in this\n",
    "case, and one only needs to multiply the acceptance rate by the scaling\n",
    "factor.\n",
    "\n",
    "As before, this move has a tuning parameter called `lambda`.\n",
    "\n",
    "The sliding-window and scaling moves are very common and popular moves in RevBayes. The code examples here are actually showing the exact same equation as implemented internally. It will be very useful for you to understand these moves.\n",
    "\n",
    "Exercise 2\n",
    "----------\n",
    "{:.section}\n",
    "\n",
    "1.  Rewrite your previous script to include these two different moves,\n",
    "    and re-run the script to estimate the posterior distribution of\n",
    "    $\\mu$ again.\n",
    "\n",
    "2.  Use only a single move and set `printgen=1`. Which move has the best\n",
    "    ESS?\n",
    "\n",
    "3.  How does the ESS change if you use tuning parameter values\n",
    "    `delta=10` or `delta=0.1` for the sliding-window move? What about\n",
    "    `lambda=10` or `lambda=0.1` for the scaling move?\n",
    "\n",
    "4.  You can keep track of your results using the following table.\n",
    "\n",
    "The Metropolis-Hastings Algorithm with the *Real* RevBayes\n",
    "============================================================\n",
    "\n",
    "We’ll now specify the exact same model in `Rev` using the built-in\n",
    "modeling functionality and moves. It turns out that the ‘Rev‘ code to\n",
    "specify the above model is extremely simple and similar to the one we\n",
    "used before. Again, we start by “reading in” (*i.e.* making up) our\n",
    "data."
   ]
  },
  {
   "cell_type": "code",
   "execution_count": null,
   "metadata": {},
   "outputs": [],
   "source": [
    "# Simulate some data (i.e. shoot some arrows)\n",
    "# First we need the number of arrows to shoot\n",
    "n = 10\n",
    "# Then we need some true mean distance\n",
    "mu_true = 1\n",
    "# Simulate the observed mean distance of the arrows we shot\n",
    "arrow_mean = rgamma(1, n, n/mu_true)[1]"
   ]
  },
  {
   "cell_type": "markdown",
   "metadata": {},
   "source": [
    "Now we specify our prior model."
   ]
  },
  {
   "cell_type": "code",
   "execution_count": null,
   "metadata": {},
   "outputs": [],
   "source": [
    "# Specify the prior distribution\n",
    "alpha <- 1.0\n",
    "mu ~ dnExponential(alpha)"
   ]
  },
  {
   "cell_type": "markdown",
   "metadata": {},
   "source": [
    "One difference between RevBayes and the MH algorithm that we wrote\n",
    "above is that many MCMC proposals are already built-in, but we have to\n",
    "specify them *before* we run the MCMC. We usually define (at least) one\n",
    "move per parameter immediately after we specify the prior distribution\n",
    "for that parameter."
   ]
  },
  {
   "cell_type": "code",
   "execution_count": null,
   "metadata": {},
   "outputs": [],
   "source": [
    "# Define a move for our parameter, mu\n",
    "moves[1] = mvSlide(mu, delta=1, weight=1.0)"
   ]
  },
  {
   "cell_type": "markdown",
   "metadata": {},
   "source": [
    "Next, our likelihood model."
   ]
  },
  {
   "cell_type": "code",
   "execution_count": null,
   "metadata": {},
   "outputs": [],
   "source": [
    "# Specify the likelihood model\n",
    "d_bar ~ dnGamma(n, n/mu)\n",
    "d_bar.clamp(arrow_mean)"
   ]
  },
  {
   "cell_type": "markdown",
   "metadata": {},
   "source": [
    "We wrap our full Bayesian model into one model object (this is a\n",
    "convenience to keep the entire model in a single object, and is more\n",
    "useful when we have very large models):"
   ]
  },
  {
   "cell_type": "code",
   "execution_count": null,
   "metadata": {},
   "outputs": [],
   "source": [
    "# Construct the full model\n",
    "my_model = model(mu)"
   ]
  },
  {
   "cell_type": "markdown",
   "metadata": {},
   "source": [
    "We use “monitors” to keep track of parameters throughout the MCMC. The\n",
    "two kinds of monitors we use here are the `mnModel`, which writes\n",
    "parameters to a specified file, and the `mnScreen`, which simply outputs\n",
    "some parts of the model to screen (as a sort of progress bar)."
   ]
  },
  {
   "cell_type": "code",
   "execution_count": null,
   "metadata": {},
   "outputs": [],
   "source": [
    "# Make the monitors to keep track of the MCMC\n",
    "monitors[1] = mnModel(filename=\"archery_RB.log\", printgen=10)\n",
    "monitors[2] = mnScreen(printgen=1000, mu)"
   ]
  },
  {
   "cell_type": "markdown",
   "metadata": {},
   "source": [
    "Finally, we assemble the analysis object (which contains the model, the\n",
    "monitors, and the moves) and execute the run using the `.run` command:"
   ]
  },
  {
   "cell_type": "code",
   "execution_count": null,
   "metadata": {},
   "outputs": [],
   "source": [
    "# Make the analysis object\n",
    "analysis = mcmc(my_model, monitors, moves)\n",
    "# Run the MCMC\n",
    "analysis.run(100000)\n",
    "# Show how the moves performed\n",
    "analysis.operatorSummary()"
   ]
  },
  {
   "cell_type": "markdown",
   "metadata": {},
   "source": [
    "Open the resulting `archery_RB.log` file in `Tracer`.\n",
    "\n",
    "Do the posterior distributions for the parameter $\\mu$ look the same as the ones we got from our first analysis?\n",
    "\n",
    "Hopefully, you’ll note that this `Rev` model is substantially simpler\n",
    "and easier to read than the MH algorithm script we began with. Perhaps\n",
    "more importantly, this `Rev` analysis is *orders of magnitude* faster\n",
    "than our own script, because it makes use of extremely efficient\n",
    "probability calculations built-in to RevBayes (rather than the ones we\n",
    "hacked together in our own algorithm).\n",
    "\n",
    "Exercise 3\n",
    "----------\n",
    "\n",
    "1.  Run the built-in MCMC and compare the results to your own MCMC. Are\n",
    "    the posterior estimates the same? Are the acceptance rates of the\n",
    "    moves similar?\n",
    "\n",
    "2.  Add a second move `moves[2] = mvScale(mu,lambda=0.1,weight=1.0)`\n",
    "\n",
    "3.  Run the analysis again and compare the output.\n",
    "\n",
    "4.  Have a look at how the acceptance rate changes for different values\n",
    "    of the tuning parameters.\n",
    "\n",
    "Influence of the Prior\n",
    "======================\n",
    "\n",
    "So far we have used a fairly simple exponential prior with $\\alpha = 1$.\n",
    "However, we have not explored what impact this prior has on our estimate\n",
    "of $\\mu$, or whether it is an appropriate prior distribution. If the\n",
    "prior is very informative, then our posterior distribution will be\n",
    "relatively similar to our prior beliefs. In order to explore the\n",
    "informativeness of the prior, we can change the true value of $\\mu$ so\n",
    "that it is very different from our prior belief. If we are still able to\n",
    "recover the correct value of $\\mu$, then we can say that our prior is\n",
    "fairly uninformative.\n",
    "\n",
    "If we find that our prior distribution is very informative, we have two\n",
    "options for minimizing sensitivity to the prior. First, we can use a\n",
    "less informative prior distribution. For example, since our data is\n",
    "exponentially distributed, a good choice for an uninformative prior is a\n",
    "$Gamma(0,0)$ distribution (this is the [Jeffreys prior](https://en.wikipedia.org/wiki/Jeffreys_prior)). Unfortunately,\n",
    "this prior distribution is *improper* (it does not integrate to 1), and\n",
    "so we can’t use it in RevBayes. However we can approximate this prior\n",
    "distribution by using very small parameter values, e.g. $Gamma(0.001,\n",
    "0.001)$. As you can see in {% ref gamma_distribution %}, compared\n",
    "to the exponential distribution, the $Gamma(0.001, 0.001)$ distribution is\n",
    "much more “flat”.\n",
    "\n",
    "![]( figures/gamma.png)\n",
    "{% figcaption %}\n",
    "Comparison of exponential distribution with $\\alpha = 1$ and uninformative gamma distribution with parameters $\\alpha=0.001$ and $\\beta=0.001$.\n",
    "\n",
    "\n",
    "\n",
    "The second and simplest way we can overcome the informativeness of the\n",
    "prior is to increase the amount of data we collect. We can do that in\n",
    "our example by increasing the number of arrows we shoot.\n",
    "\n",
    "Exercise 4\n",
    "----------\n",
    "\n",
    "1.  Increase the true mean arrow distance so that it is significantly\n",
    "    larger than $\\alpha$. How does this impact your estimate of $\\mu$?\n",
    "\n",
    "2.  Now use an uninformative $Gamma(0.001, 0.001)$ prior for $\\mu$. Did\n",
    "    your estimate of $\\mu$ improve?\n",
    "\n",
    "3.  Increase the number of arrows shot. How does this change the shape\n",
    "    and scale of the posterior distribution?"
   ]
  },
  {
   "cell_type": "markdown",
   "metadata": {},
   "source": [
    "References\n",
    "==========\n",
    "\n",
    "- Hastings W.K. 1970. Monte Carlo Sampling Methods Using Markov Chains and Their Applications. Biometrika. 57:97–109.\n",
    "- Metropolis N., Rosenbluth A.W., Rosenbluth M.N., Teller A.H., Teller E. 1953. Equation of State Calculations by Fast Computing Machines. Journal of Chemical Physics. 21:1087–1092. 10.1063/1.1699114 "
   ]
  },
  {
   "cell_type": "code",
   "execution_count": null,
   "metadata": {},
   "outputs": [],
   "source": []
  }
 ],
 "metadata": {
  "kernelspec": {
   "display_name": "RevBayes",
   "language": "bash",
   "name": "revbayes_kernel"
  },
  "language_info": {
   "codemirror_mode": {
    "name": "r"
   },
   "file_extension": ".Rev",
   "help_links": [
    {
     "text": "RevBayes",
     "url": "https://revbayes.org"
    },
    {
     "text": "RevBayes Kernel",
     "url": "https://github.com/sdwfrost/revbayes_kernel"
    },
    {
     "text": "MetaKernel Magics",
     "url": "https://github.com/calysto/metakernel/blob/master/metakernel/magics/README.md"
    }
   ],
   "mimetype": "text/x-rsrc",
   "name": "RevBayes",
   "pygments_lexer": "R"
  }
 },
 "nbformat": 4,
 "nbformat_minor": 2
}
